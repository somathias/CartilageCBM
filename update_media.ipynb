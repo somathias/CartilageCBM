{
 "cells": [
  {
   "cell_type": "code",
   "execution_count": 10,
   "metadata": {},
   "outputs": [],
   "source": []
  },
  {
   "cell_type": "code",
   "execution_count": 16,
   "metadata": {},
   "outputs": [
    {
     "name": "stdout",
     "output_type": "stream",
     "text": [
      "ppa_orientation.pdf\n",
      "random_cd /home/kubuntu1804/Documents/sf_simulation_results/exp-draft/mesenchymal_condensation/orientation/20200505-104632/0/\n",
      "threshold_48_minus_y_t1000.png\n",
      "oriented_cd /home/kubuntu1804/Documents/sf_simulation_results/exp-draft/mesenchymal_condensation/continue/20200505-141629/0/\n",
      "threshold_48_minus_y_t1000.png\n"
     ]
    }
   ],
   "source": [
    "import os\n",
    "import shutil\n",
    "\n",
    "path_to_simulation_results = '/home/kubuntu1804/Documents/sf_simulation_results/'\n",
    "path_to_dest = '/home/kubuntu1804/Documents/'\n",
    "\n",
    "# move plots\n",
    "directory = 'exp-draft/plots/'\n",
    "for entry in os.scandir(path_to_simulation_results+directory):\n",
    "    if entry.name.endswith(\".pdf\") and entry.is_file():\n",
    "        print(entry.name)\n",
    "        shutil.copyfile(path_to_simulation_results+directory+entry.name, path_to_dest+entry.name)\n",
    "\n",
    "\n",
    "# move snapshots\n",
    "directory = 'exp-draft/picked_result_files/'\n",
    "for entry in os.scandir(path_to_simulation_results+directory):\n",
    "    with open(entry, 'r') as f : \n",
    "        label = entry.name\n",
    "        results_dir = path_to_simulation_results+f.read()\n",
    "        print(label + ' ' + results_dir)\n",
    "        \n",
    "        for entr in os.scandir(results_dir):\n",
    "            if entr.name.endswith(\".png\") and entr.is_file():\n",
    "                print(entr.name)\n",
    "                shutil.copyfile(results_dir+entr.name, path_to_dest+label+'_'+entr.name)\n",
    "            \n",
    "            "
   ]
  },
  {
   "cell_type": "code",
   "execution_count": null,
   "metadata": {},
   "outputs": [],
   "source": []
  }
 ],
 "metadata": {
  "kernelspec": {
   "display_name": "Python 3",
   "language": "python",
   "name": "python3"
  },
  "language_info": {
   "codemirror_mode": {
    "name": "ipython",
    "version": 3
   },
   "file_extension": ".py",
   "mimetype": "text/x-python",
   "name": "python",
   "nbconvert_exporter": "python",
   "pygments_lexer": "ipython3",
   "version": "3.6.7"
  }
 },
 "nbformat": 4,
 "nbformat_minor": 2
}
