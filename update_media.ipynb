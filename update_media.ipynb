{
 "cells": [
  {
   "cell_type": "code",
   "execution_count": 10,
   "metadata": {},
   "outputs": [],
   "source": []
  },
  {
   "cell_type": "code",
   "execution_count": 3,
   "metadata": {},
   "outputs": [
    {
     "name": "stdout",
     "output_type": "stream",
     "text": [
      "flat_configurations.pdf\n",
      "order_configurations.pdf\n",
      "ppa_scaling.pdf\n",
      "mesenchymal_condensation.pdf\n",
      "intercalation_baseline.pdf\n",
      "ppa_orientation.pdf\n",
      "ppa_all.pdf\n",
      "ppa_continue.pdf\n",
      "ppa_flat.pdf\n",
      "scaling_configurations.pdf\n",
      "ppa_order.pdf\n",
      "continue /home/kubuntu1804/Documents/sf_simulation_results/exp-draft/mesenchymal_condensation/continue/20220301-143843/7/\n",
      "threshold_47_minus_y_t800.png\n",
      "scaling_100 /home/kubuntu1804/Documents/sf_simulation_results/exp-draft/mesenchymal_condensation/scaling/20220225-121040/0/\n",
      "threshold_48_minus_y_t0.png\n",
      "threshold_48_minus_y_t800.png\n",
      "baseline /home/kubuntu1804/Documents/sf_simulation_results/exp-draft/cartilage_sheet/baseline/20220609-141147/1/\n",
      "cartilage_sheet_columns_t0.png\n",
      "cartilage_sheet_configuration_-y_cell_tissue_types.png\n",
      "cartilage_sheet_columns_t80.png\n",
      "cartilage_sheet_t0.png\n",
      "cartilage_sheet_-z_t0.png\n",
      "cartilage_sheet_configuration_+x_cell_tissue_types.png\n",
      "cartilage_sheet_t80.png\n",
      "scaling_110 /home/kubuntu1804/Documents/sf_simulation_results/exp-draft/mesenchymal_condensation/scaling/20220225-122345/0/\n",
      "threshold_48_minus_y_t0.png\n",
      "threshold_48_minus_y_t800.png\n",
      "flat /home/kubuntu1804/Documents/sf_simulation_results/exp-draft/mesenchymal_condensation/flat/20220225-131527/0/\n",
      "threshold_48_minus_y_t0.png\n",
      "threshold_48_minus_y_t800.png\n",
      "random_cd /home/kubuntu1804/Documents/sf_simulation_results/exp-draft/mesenchymal_condensation/orientation/20220223-155402/0/\n",
      "threshold_48_minus_y_t0.png\n",
      "threshold_48_minus_y_t800.png\n",
      "plus_x_t800.png\n",
      "lb0 /home/kubuntu1804/Documents/sf_simulation_results/exp-draft/mesenchymal_condensation/flat/20220225-125830/0/\n",
      "threshold_48_minus_y_t0.png\n",
      "threshold_48_minus_y_t800.png\n",
      "psl_8 /home/kubuntu1804/Documents/sf_simulation_results/exp-draft/mesenchymal_condensation/order/20220301-125119/7/\n",
      "threshold_48_minus_y_t800.png\n",
      "psl5 /home/kubuntu1804/Documents/sf_simulation_results/exp-draft/mesenchymal_condensation/psl5/20220610-104855/0/\n",
      "psl_6 /home/kubuntu1804/Documents/sf_simulation_results/exp-draft/mesenchymal_condensation/order/20220301-141246/7/\n",
      "threshold_48_minus_y_t0.png\n",
      "threshold_48_minus_y_t800.png\n",
      "threshold_47_minus_y_t800.png\n",
      "oriented_cd /home/kubuntu1804/Documents/sf_simulation_results/exp-draft/mesenchymal_condensation/orientation/20220223-152730/0/\n",
      "threshold_48_minus_y_t0.png\n",
      "threshold_48_minus_y_t800.png\n"
     ]
    }
   ],
   "source": [
    "import os\n",
    "import shutil\n",
    "\n",
    "path_to_simulation_results = '/home/kubuntu1804/Documents/sf_simulation_results/'\n",
    "path_to_dest = '/home/kubuntu1804/Documents/'\n",
    "\n",
    "# move plots\n",
    "directory = 'exp-draft/plots/'\n",
    "for entry in os.scandir(path_to_simulation_results+directory):\n",
    "    if entry.name.endswith(\".pdf\") and entry.is_file():\n",
    "        print(entry.name)\n",
    "        shutil.copyfile(path_to_simulation_results+directory+entry.name, path_to_dest+entry.name)\n",
    "\n",
    "\n",
    "# move snapshots\n",
    "directory = 'exp-draft/picked_result_files/'\n",
    "for entry in os.scandir(path_to_simulation_results+directory):\n",
    "    with open(entry, 'r') as f : \n",
    "        label = entry.name\n",
    "        results_dir = path_to_simulation_results+f.read()\n",
    "        print(label + ' ' + results_dir)\n",
    "        \n",
    "        for entr in os.scandir(results_dir):\n",
    "            if entr.name.endswith(\".png\") and entr.is_file():\n",
    "                print(entr.name)\n",
    "                shutil.copyfile(results_dir+entr.name, path_to_dest+label+'_'+entr.name)\n",
    "            \n",
    "            "
   ]
  },
  {
   "cell_type": "code",
   "execution_count": null,
   "metadata": {},
   "outputs": [],
   "source": []
  }
 ],
 "metadata": {
  "kernelspec": {
   "display_name": "Python 3",
   "language": "python",
   "name": "python3"
  },
  "language_info": {
   "codemirror_mode": {
    "name": "ipython",
    "version": 3
   },
   "file_extension": ".py",
   "mimetype": "text/x-python",
   "name": "python",
   "nbconvert_exporter": "python",
   "pygments_lexer": "ipython3",
   "version": "3.6.7"
  }
 },
 "nbformat": 4,
 "nbformat_minor": 2
}
