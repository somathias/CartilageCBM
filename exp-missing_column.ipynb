{
 "cells": [
  {
   "cell_type": "markdown",
   "metadata": {},
   "source": [
    "Run this in a terminal to make sure the shared folder is mounted (only at the beginning when booting up the VM.)\n",
    "\n",
    "    sudo mount -t vboxsf -o uid=$UID,gid=$(id -g) simulation_results ~/Documents/sf_simulation_results/"
   ]
  },
  {
   "cell_type": "code",
   "execution_count": 1,
   "metadata": {},
   "outputs": [
    {
     "name": "stdout",
     "output_type": "stream",
     "text": [
      "[  5%] Built target timekeeper\n",
      "[ 11%] Built target chaste_global\n",
      "[ 16%] Built target chaste_linalg\n",
      "[ 16%] Built target chaste_io\n",
      "[ 22%] Built target chaste_ode\n",
      "[ 38%] Built target chaste_mesh\n",
      "[ 44%] Built target chaste_pde\n",
      "[ 88%] Built target chaste_cell_based\n",
      "[100%] Built target chaste_project_cartilage\n",
      "[100%] Built target MissingColumnSimulation\n"
     ]
    }
   ],
   "source": [
    "%%bash\n",
    "cd ../chaste_build/\n",
    "make MissingColumnSimulation"
   ]
  },
  {
   "cell_type": "code",
   "execution_count": 2,
   "metadata": {},
   "outputs": [],
   "source": [
    "import sys\n",
    "sys.path.append('analysis')\n",
    "\n",
    "import numpy as np\n",
    "import time \n",
    "import matplotlib.pyplot as plt\n",
    "import distribute_executable as de\n",
    "import sheet_metrics as sm\n",
    "\n",
    "plt.style.use('seaborn-whitegrid')\n",
    "plt.style.use('tableau-colorblind10')\n",
    "params = {'legend.fontsize': 'xx-large',\n",
    "          'figure.figsize': (6.75, 5),\n",
    "          'lines.linewidth': 3.0,\n",
    "          'axes.labelsize': 'xx-large',\n",
    "          'axes.titlesize':'xx-large',\n",
    "          'xtick.labelsize':'xx-large',\n",
    "          'ytick.labelsize':'xx-large',\n",
    "          'legend.fontsize': 'xx-large',\n",
    "          'font.size': 12,\n",
    "          'axes.titlepad': 12,\n",
    "          'axes.labelpad': 12,\n",
    "          'font.family': 'serif',\n",
    "          'mathtext.fontset': 'cm',\n",
    "         }\n",
    "plt.rcParams.update(params)\n",
    "\n",
    "defcolors = plt.rcParams['axes.prop_cycle'].by_key()['color']\n",
    "\n",
    "path_to_label_files = '/home/kubuntu1804/Documents/sf_simulation_results/exp-draft/picked_result_files/'\n",
    "path_to_plots = '/home/kubuntu1804/Documents/sf_simulation_results/exp-draft/plots/'"
   ]
  },
  {
   "cell_type": "code",
   "execution_count": 15,
   "metadata": {},
   "outputs": [],
   "source": [
    "output_directory = 'exp-draft/cartilage_sheet/missing_column/' + time.strftime(\"%Y%m%d-%H%M%S\") +'/'\n",
    "flags = '' \n",
    "#flags = ' --sbt' # synchronized birth times\n",
    "flags = flags + ' --T 80.0' # final time 80h\n",
    "flags = flags + ' --sw 5' # 5 cells in x direction (The missing column experiment is currently hard-coded for 5 cells in x-dir)\n",
    "flags = flags + ' --sd 5' # 5 cells in y direction (The missing column experiment is currently hard-coded for 5 cells in y-dir)\n",
    "flags = flags + ' --sh 5' # 5 cells in z direction\n",
    "flags = flags + ' --pu 0' # no layer perichondrial cells above\n",
    "flags = flags + ' --pl 1' # 1 layer perichondrial cells below\n",
    "flags = flags + ' --nb 2' # both an upper and a lower rigid boundary\n",
    "flags = flags + ' --mu 0.0' # adhesive spring stiffness set to 0.0 \n",
    "#flags = flags + ' --A 0.25' # proliferation rate of 25%\n",
    "flags = flags + ' --F pwq' # PWQ force\n",
    "flags = flags + ' --mu_R 20.0' # set repulsive spring stiffness to 20.0\n",
    "flags = flags + ' --p 0.1' # set perturbation to 0.1\n",
    "flags = flags + ' --psl 5'\n",
    "flags = flags + ' --u 4.0' # set distance between boundaries to 3.0\n",
    "#flags = flags + ' --cg ' # use a Cartesian grid for initial placement\n",
    "flags = flags + ' --sc 1.075' # scale initial sheet to generate more space\n",
    "flags = flags + ' --g1t 10.0' # g1 duration for transit cells\n",
    "flags = flags + ' --g1s 10.0' # g1 duration for stem cells\n",
    "flags = flags + ' --ds 3.0' # s phase duration\n",
    "\n",
    "#flags = flags + ' --rdd' #random division directions\n",
    "\n",
    "executable='/home/kubuntu1804/Documents/chaste_build/projects/cartilage/apps/MissingColumnSimulation'"
   ]
  },
  {
   "cell_type": "code",
   "execution_count": 16,
   "metadata": {},
   "outputs": [
    {
     "name": "stdout",
     "output_type": "stream",
     "text": [
      "nice -n 19 /home/kubuntu1804/Documents/chaste_build/projects/cartilage/apps/MissingColumnSimulation --output-dir exp-draft/cartilage_sheet/missing_column/20220612-151424/ --S 0 --T 80.0 --sw 5 --sd 5 --sh 5 --pu 0 --pl 1 --nb 2 --mu 0.0 --F pwq --mu_R 20.0 --p 0.1 --psl 5 --u 4.0 --sc 1.075 --g1t 10.0 --g1s 10.0 --ds 3.0\n",
      "nice -n 19 /home/kubuntu1804/Documents/chaste_build/projects/cartilage/apps/MissingColumnSimulation --output-dir exp-draft/cartilage_sheet/missing_column/20220612-151424/ --S 1 --T 80.0 --sw 5 --sd 5 --sh 5 --pu 0 --pl 1 --nb 2 --mu 0.0 --F pwq --mu_R 20.0 --p 0.1 --psl 5 --u 4.0 --sc 1.075 --g1t 10.0 --g1s 10.0 --ds 3.0\n",
      "nice -n 19 /home/kubuntu1804/Documents/chaste_build/projects/cartilage/apps/MissingColumnSimulation --output-dir exp-draft/cartilage_sheet/missing_column/20220612-151424/ --S 2 --T 80.0 --sw 5 --sd 5 --sh 5 --pu 0 --pl 1 --nb 2 --mu 0.0 --F pwq --mu_R 20.0 --p 0.1 --psl 5 --u 4.0 --sc 1.075 --g1t 10.0 --g1s 10.0 --ds 3.0\n",
      "nice -n 19 /home/kubuntu1804/Documents/chaste_build/projects/cartilage/apps/MissingColumnSimulation --output-dir exp-draft/cartilage_sheet/missing_column/20220612-151424/ --S 3 --T 80.0 --sw 5 --sd 5 --sh 5 --pu 0 --pl 1 --nb 2 --mu 0.0 --F pwq --mu_R 20.0 --p 0.1 --psl 5 --u 4.0 --sc 1.075 --g1t 10.0 --g1s 10.0 --ds 3.0\n",
      "nice -n 19 /home/kubuntu1804/Documents/chaste_build/projects/cartilage/apps/MissingColumnSimulation --output-dir exp-draft/cartilage_sheet/missing_column/20220612-151424/ --S 4 --T 80.0 --sw 5 --sd 5 --sh 5 --pu 0 --pl 1 --nb 2 --mu 0.0 --F pwq --mu_R 20.0 --p 0.1 --psl 5 --u 4.0 --sc 1.075 --g1t 10.0 --g1s 10.0 --ds 3.0\n",
      "nice -n 19 /home/kubuntu1804/Documents/chaste_build/projects/cartilage/apps/MissingColumnSimulation --output-dir exp-draft/cartilage_sheet/missing_column/20220612-151424/ --S 5 --T 80.0 --sw 5 --sd 5 --sh 5 --pu 0 --pl 1 --nb 2 --mu 0.0 --F pwq --mu_R 20.0 --p 0.1 --psl 5 --u 4.0 --sc 1.075 --g1t 10.0 --g1s 10.0 --ds 3.0\n",
      "nice -n 19 /home/kubuntu1804/Documents/chaste_build/projects/cartilage/apps/MissingColumnSimulation --output-dir exp-draft/cartilage_sheet/missing_column/20220612-151424/ --S 6 --T 80.0 --sw 5 --sd 5 --sh 5 --pu 0 --pl 1 --nb 2 --mu 0.0 --F pwq --mu_R 20.0 --p 0.1 --psl 5 --u 4.0 --sc 1.075 --g1t 10.0 --g1s 10.0 --ds 3.0\n",
      "nice -n 19 /home/kubuntu1804/Documents/chaste_build/projects/cartilage/apps/MissingColumnSimulation --output-dir exp-draft/cartilage_sheet/missing_column/20220612-151424/ --S 7 --T 80.0 --sw 5 --sd 5 --sh 5 --pu 0 --pl 1 --nb 2 --mu 0.0 --F pwq --mu_R 20.0 --p 0.1 --psl 5 --u 4.0 --sc 1.075 --g1t 10.0 --g1s 10.0 --ds 3.0\n",
      "nice -n 19 /home/kubuntu1804/Documents/chaste_build/projects/cartilage/apps/MissingColumnSimulation --output-dir exp-draft/cartilage_sheet/missing_column/20220612-151424/ --S 8 --T 80.0 --sw 5 --sd 5 --sh 5 --pu 0 --pl 1 --nb 2 --mu 0.0 --F pwq --mu_R 20.0 --p 0.1 --psl 5 --u 4.0 --sc 1.075 --g1t 10.0 --g1s 10.0 --ds 3.0\n",
      "nice -n 19 /home/kubuntu1804/Documents/chaste_build/projects/cartilage/apps/MissingColumnSimulation --output-dir exp-draft/cartilage_sheet/missing_column/20220612-151424/ --S 9 --T 80.0 --sw 5 --sd 5 --sh 5 --pu 0 --pl 1 --nb 2 --mu 0.0 --F pwq --mu_R 20.0 --p 0.1 --psl 5 --u 4.0 --sc 1.075 --g1t 10.0 --g1s 10.0 --ds 3.0\n",
      "nice -n 19 /home/kubuntu1804/Documents/chaste_build/projects/cartilage/apps/MissingColumnSimulation --output-dir exp-draft/cartilage_sheet/missing_column/20220612-151424/ --S 10 --T 80.0 --sw 5 --sd 5 --sh 5 --pu 0 --pl 1 --nb 2 --mu 0.0 --F pwq --mu_R 20.0 --p 0.1 --psl 5 --u 4.0 --sc 1.075 --g1t 10.0 --g1s 10.0 --ds 3.0\n",
      "nice -n 19 /home/kubuntu1804/Documents/chaste_build/projects/cartilage/apps/MissingColumnSimulation --output-dir exp-draft/cartilage_sheet/missing_column/20220612-151424/ --S 11 --T 80.0 --sw 5 --sd 5 --sh 5 --pu 0 --pl 1 --nb 2 --mu 0.0 --F pwq --mu_R 20.0 --p 0.1 --psl 5 --u 4.0 --sc 1.075 --g1t 10.0 --g1s 10.0 --ds 3.0\n",
      "nice -n 19 /home/kubuntu1804/Documents/chaste_build/projects/cartilage/apps/MissingColumnSimulation --output-dir exp-draft/cartilage_sheet/missing_column/20220612-151424/ --S 12 --T 80.0 --sw 5 --sd 5 --sh 5 --pu 0 --pl 1 --nb 2 --mu 0.0 --F pwq --mu_R 20.0 --p 0.1 --psl 5 --u 4.0 --sc 1.075 --g1t 10.0 --g1s 10.0 --ds 3.0\n",
      "nice -n 19 /home/kubuntu1804/Documents/chaste_build/projects/cartilage/apps/MissingColumnSimulation --output-dir exp-draft/cartilage_sheet/missing_column/20220612-151424/ --S 13 --T 80.0 --sw 5 --sd 5 --sh 5 --pu 0 --pl 1 --nb 2 --mu 0.0 --F pwq --mu_R 20.0 --p 0.1 --psl 5 --u 4.0 --sc 1.075 --g1t 10.0 --g1s 10.0 --ds 3.0\n",
      "nice -n 19 /home/kubuntu1804/Documents/chaste_build/projects/cartilage/apps/MissingColumnSimulation --output-dir exp-draft/cartilage_sheet/missing_column/20220612-151424/ --S 14 --T 80.0 --sw 5 --sd 5 --sh 5 --pu 0 --pl 1 --nb 2 --mu 0.0 --F pwq --mu_R 20.0 --p 0.1 --psl 5 --u 4.0 --sc 1.075 --g1t 10.0 --g1s 10.0 --ds 3.0\n",
      "nice -n 19 /home/kubuntu1804/Documents/chaste_build/projects/cartilage/apps/MissingColumnSimulation --output-dir exp-draft/cartilage_sheet/missing_column/20220612-151424/ --S 15 --T 80.0 --sw 5 --sd 5 --sh 5 --pu 0 --pl 1 --nb 2 --mu 0.0 --F pwq --mu_R 20.0 --p 0.1 --psl 5 --u 4.0 --sc 1.075 --g1t 10.0 --g1s 10.0 --ds 3.0\n",
      "nice -n 19 /home/kubuntu1804/Documents/chaste_build/projects/cartilage/apps/MissingColumnSimulation --output-dir exp-draft/cartilage_sheet/missing_column/20220612-151424/ --S 16 --T 80.0 --sw 5 --sd 5 --sh 5 --pu 0 --pl 1 --nb 2 --mu 0.0 --F pwq --mu_R 20.0 --p 0.1 --psl 5 --u 4.0 --sc 1.075 --g1t 10.0 --g1s 10.0 --ds 3.0\n",
      "nice -n 19 /home/kubuntu1804/Documents/chaste_build/projects/cartilage/apps/MissingColumnSimulation --output-dir exp-draft/cartilage_sheet/missing_column/20220612-151424/ --S 17 --T 80.0 --sw 5 --sd 5 --sh 5 --pu 0 --pl 1 --nb 2 --mu 0.0 --F pwq --mu_R 20.0 --p 0.1 --psl 5 --u 4.0 --sc 1.075 --g1t 10.0 --g1s 10.0 --ds 3.0\n",
      "nice -n 19 /home/kubuntu1804/Documents/chaste_build/projects/cartilage/apps/MissingColumnSimulation --output-dir exp-draft/cartilage_sheet/missing_column/20220612-151424/ --S 18 --T 80.0 --sw 5 --sd 5 --sh 5 --pu 0 --pl 1 --nb 2 --mu 0.0 --F pwq --mu_R 20.0 --p 0.1 --psl 5 --u 4.0 --sc 1.075 --g1t 10.0 --g1s 10.0 --ds 3.0\n",
      "nice -n 19 /home/kubuntu1804/Documents/chaste_build/projects/cartilage/apps/MissingColumnSimulation --output-dir exp-draft/cartilage_sheet/missing_column/20220612-151424/ --S 19 --T 80.0 --sw 5 --sd 5 --sh 5 --pu 0 --pl 1 --nb 2 --mu 0.0 --F pwq --mu_R 20.0 --p 0.1 --psl 5 --u 4.0 --sc 1.075 --g1t 10.0 --g1s 10.0 --ds 3.0\n",
      "Starting simulations with 2 processes\n"
     ]
    }
   ],
   "source": [
    "de.run_simulations_multiple_random_seeds(output_directory, flags=flags, number_of_simulations=20, executable=executable)"
   ]
  },
  {
   "cell_type": "code",
   "execution_count": 2,
   "metadata": {},
   "outputs": [],
   "source": [
    "#output_directory = 'exp-baseline/20210428-095510/'"
   ]
  },
  {
   "cell_type": "code",
   "execution_count": 17,
   "metadata": {},
   "outputs": [
    {
     "name": "stdout",
     "output_type": "stream",
     "text": [
      "['/home/kubuntu1804/Documents/sf_simulation_results/exp-draft/cartilage_sheet/missing_column/20220612-151424/0/results_from_time_0/', '/home/kubuntu1804/Documents/sf_simulation_results/exp-draft/cartilage_sheet/missing_column/20220612-151424/1/results_from_time_0/', '/home/kubuntu1804/Documents/sf_simulation_results/exp-draft/cartilage_sheet/missing_column/20220612-151424/2/results_from_time_0/', '/home/kubuntu1804/Documents/sf_simulation_results/exp-draft/cartilage_sheet/missing_column/20220612-151424/3/results_from_time_0/', '/home/kubuntu1804/Documents/sf_simulation_results/exp-draft/cartilage_sheet/missing_column/20220612-151424/4/results_from_time_0/', '/home/kubuntu1804/Documents/sf_simulation_results/exp-draft/cartilage_sheet/missing_column/20220612-151424/5/results_from_time_0/', '/home/kubuntu1804/Documents/sf_simulation_results/exp-draft/cartilage_sheet/missing_column/20220612-151424/6/results_from_time_0/', '/home/kubuntu1804/Documents/sf_simulation_results/exp-draft/cartilage_sheet/missing_column/20220612-151424/7/results_from_time_0/', '/home/kubuntu1804/Documents/sf_simulation_results/exp-draft/cartilage_sheet/missing_column/20220612-151424/8/results_from_time_0/', '/home/kubuntu1804/Documents/sf_simulation_results/exp-draft/cartilage_sheet/missing_column/20220612-151424/9/results_from_time_0/', '/home/kubuntu1804/Documents/sf_simulation_results/exp-draft/cartilage_sheet/missing_column/20220612-151424/10/results_from_time_0/', '/home/kubuntu1804/Documents/sf_simulation_results/exp-draft/cartilage_sheet/missing_column/20220612-151424/11/results_from_time_0/', '/home/kubuntu1804/Documents/sf_simulation_results/exp-draft/cartilage_sheet/missing_column/20220612-151424/12/results_from_time_0/', '/home/kubuntu1804/Documents/sf_simulation_results/exp-draft/cartilage_sheet/missing_column/20220612-151424/13/results_from_time_0/', '/home/kubuntu1804/Documents/sf_simulation_results/exp-draft/cartilage_sheet/missing_column/20220612-151424/14/results_from_time_0/', '/home/kubuntu1804/Documents/sf_simulation_results/exp-draft/cartilage_sheet/missing_column/20220612-151424/15/results_from_time_0/', '/home/kubuntu1804/Documents/sf_simulation_results/exp-draft/cartilage_sheet/missing_column/20220612-151424/16/results_from_time_0/', '/home/kubuntu1804/Documents/sf_simulation_results/exp-draft/cartilage_sheet/missing_column/20220612-151424/17/results_from_time_0/', '/home/kubuntu1804/Documents/sf_simulation_results/exp-draft/cartilage_sheet/missing_column/20220612-151424/18/results_from_time_0/', '/home/kubuntu1804/Documents/sf_simulation_results/exp-draft/cartilage_sheet/missing_column/20220612-151424/19/results_from_time_0/']\n",
      "Starting postprocessing with 2 processes\n"
     ]
    },
    {
     "name": "stderr",
     "output_type": "stream",
     "text": [
      "analysis/sheet_metrics.py:104: RuntimeWarning: All-NaN slice encountered\n",
      "  width[:, 0] = abs(np.nanmax(coordinates[:,0::3], axis=1)- np.nanmin(coordinates[:,0::3], axis=1))\n",
      "analysis/sheet_metrics.py:105: RuntimeWarning: All-NaN slice encountered\n",
      "  width[:, 1] = abs(np.nanmax(coordinates[:,1::3], axis=1)- np.nanmin(coordinates[:,1::3], axis=1))\n",
      "analysis/sheet_metrics.py:106: RuntimeWarning: All-NaN slice encountered\n",
      "  width[:, 2] = abs(np.nanmax(coordinates[:,2::3], axis=1)- np.nanmin(coordinates[:,2::3], axis=1))\n",
      "analysis/evaluate_cartilage_sheet.py:235: RuntimeWarning: Mean of empty slice\n",
      "  ppa_mean = np.nanmean(ppa, axis=0)\n",
      "/home/kubuntu1804/.local/lib/python3.6/site-packages/numpy/lib/nanfunctions.py:1665: RuntimeWarning: Degrees of freedom <= 0 for slice.\n",
      "  keepdims=keepdims)\n",
      "analysis/sheet_metrics.py:104: RuntimeWarning: All-NaN slice encountered\n",
      "  width[:, 0] = abs(np.nanmax(coordinates[:,0::3], axis=1)- np.nanmin(coordinates[:,0::3], axis=1))\n",
      "analysis/sheet_metrics.py:105: RuntimeWarning: All-NaN slice encountered\n",
      "  width[:, 1] = abs(np.nanmax(coordinates[:,1::3], axis=1)- np.nanmin(coordinates[:,1::3], axis=1))\n",
      "analysis/sheet_metrics.py:106: RuntimeWarning: All-NaN slice encountered\n",
      "  width[:, 2] = abs(np.nanmax(coordinates[:,2::3], axis=1)- np.nanmin(coordinates[:,2::3], axis=1))\n",
      "analysis/evaluate_cartilage_sheet.py:235: RuntimeWarning: Mean of empty slice\n",
      "  ppa_mean = np.nanmean(ppa, axis=0)\n",
      "/home/kubuntu1804/.local/lib/python3.6/site-packages/numpy/lib/nanfunctions.py:1665: RuntimeWarning: Degrees of freedom <= 0 for slice.\n",
      "  keepdims=keepdims)\n"
     ]
    }
   ],
   "source": [
    "de.run_postprocessing_multiple_random_seeds(20, output_directory)"
   ]
  },
  {
   "cell_type": "markdown",
   "metadata": {},
   "source": [
    "### Run Missing Column Experiment to show that space is sufficient for nice column growth"
   ]
  },
  {
   "cell_type": "markdown",
   "metadata": {},
   "source": [
    "Data:\n",
    "- 6 random seeds, perturbation of initial coordinates of 0.1\n",
    "        nice -n 19 /home/kubuntu1804/Documents/chaste_build/projects/cartilage/apps/MissingColumnSimulation --output-dir exp-missing_column/20210811-131259/ --S 0 --sbt --T 80.0 --sw 5 --sd 5 --sh 4 --pu 1 --pl 1 --nb 2 --mu 0.0 --A 0.25 --F pwq --mu_R 20.0 --p 0.1 --psl 4 --u 3.0 --sc 1.2 --g1t 10.0 --ds 3.0\n",
    "- 6 random seeds, no perturbation, no extra space\n",
    "        nice -n 19 /home/kubuntu1804/Documents/chaste_build/projects/cartilage/apps/MissingColumnSimulation --output-dir exp-missing_column/20210811-133551/ --S 0 --sbt --T 80.0 --sw 5 --sd 5 --sh 4 --pu 1 --pl 1 --nb 2 --mu 0.0 --A 0.25 --F pwq --mu_R 20.0 --psl 4 --u 3.0 --g1t 10.0 --ds 3.0\n",
    "- 8 random seeds, sbt no effect any longer\n",
    "        nice -n 19 /home/kubuntu1804/Documents/chaste_build/projects/cartilage/apps/MissingColumnSimulation --output-dir exp-draft/cartilage_sheet/missing_column/20220612-143820/ --S 0 --sbt --T 80.0 --sw 5 --sd 5 --sh 5 --pu 0 --pl 1 --nb 2 --mu 0.0 --A 0.25 --F pwq --mu_R 20.0 --p 0.1 --psl 5 --u 4.0 --sc 1.075 --g1t 10.0 --g1s 10.0 --ds 3.0\n",
    "- 20 random seeds,\n",
    "        nice -n 19 /home/kubuntu1804/Documents/chaste_build/projects/cartilage/apps/MissingColumnSimulation --output-dir exp-draft/cartilage_sheet/missing_column/20220612-151424/ --S 0 --T 80.0 --sw 5 --sd 5 --sh 5 --pu 0 --pl 1 --nb 2 --mu 0.0 --F pwq --mu_R 20.0 --p 0.1 --psl 5 --u 4.0 --sc 1.075 --g1t 10.0 --g1s 10.0 --ds 3.0"
   ]
  },
  {
   "cell_type": "code",
   "execution_count": 18,
   "metadata": {},
   "outputs": [],
   "source": [
    "dir_missing_column = 'exp-draft/cartilage_sheet/missing_column/20220612-151424/'\n",
    "dir_comparison = 'exp-draft/mesenchymal_condensation/psl5/20220610-104855/'\n",
    "\n",
    "\n",
    "# save label-path tuple\n",
    "with open(path_to_label_files+'missing_column', 'w') as f:\n",
    "    f.write(dir_missing_column+'0/')\n",
    "    "
   ]
  },
  {
   "cell_type": "code",
   "execution_count": 19,
   "metadata": {},
   "outputs": [
    {
     "data": {
      "image/png": "[encoded data removed]",
      "text/plain": [
       "<Figure size 432x288 with 1 Axes>"
      ]
     },
     "metadata": {},
     "output_type": "display_data"
    }
   ],
   "source": [
    "# Compare with column growth, psl =5\n",
    "# time steps are consistent across runs, so it's sufficient to load them from a single path\n",
    "times_d, coords_d = sm.read_in_data('/home/kubuntu1804/Documents/sf_simulation_results/'+dir_comparison + '0/results_from_time_0/') \n",
    "\n",
    "ppa_av_d = np.zeros(times_d.shape)\n",
    "#for seed in range(6):\n",
    "for seed in range(8):\n",
    "    #print(seed)\n",
    "    ppa = np.loadtxt('/home/kubuntu1804/Documents/sf_simulation_results/'+dir_comparison+str(seed)+'/results_from_time_0/metrics_results/data_patch_projection_area_av.txt', dtype=float)\n",
    "    #plt.plot(times_d, ppa, color=defcolors[5], alpha=0.5)\n",
    "    ppa_av_d = ppa_av_d + ppa\n",
    "ppa_av_d = ppa_av_d /8\n",
    "plt.plot(times_d, ppa_av_d, color=defcolors[0], label='Initial growth')\n",
    "\n",
    "# time steps are consistent across runs, so it's sufficient to load them from a single path\n",
    "times_d, coords_d = sm.read_in_data('/home/kubuntu1804/Documents/sf_simulation_results/'+dir_missing_column+ '0/results_from_time_0/') \n",
    "\n",
    "ppa_av_d = np.zeros(times_d.shape)\n",
    "#for seed in range(6):\n",
    "for seed in range(8):\n",
    "    #print(seed)\n",
    "    ppa = np.loadtxt('/home/kubuntu1804/Documents/sf_simulation_results/'+dir_missing_column+str(seed)+'/results_from_time_0/metrics_results/data_patch_projection_area_av.txt', dtype=float)\n",
    "    #plt.plot(times_d, ppa, color=defcolors[1], alpha=0.5)\n",
    "    ppa_av_d = ppa_av_d + ppa\n",
    "ppa_av_d = ppa_av_d /8\n",
    "plt.plot(times_d, ppa_av_d, color=defcolors[1], label='Intercalation')\n",
    "\n",
    "#plt.legend()\n",
    "plt.xlabel('Time $t$ [$a.u.$]')\n",
    "plt.ylabel('Patch projection area $a$ [$d^2$]')\n",
    "plt.legend()\n",
    "\n",
    "plt.savefig(path_to_plots+'intercalation_missing_column.pdf', bbox_inches='tight', dpi=600)"
   ]
  },
  {
   "cell_type": "code",
   "execution_count": null,
   "metadata": {},
   "outputs": [],
   "source": []
  }
 ],
 "metadata": {
  "kernelspec": {
   "display_name": "Python 3",
   "language": "python",
   "name": "python3"
  },
  "language_info": {
   "codemirror_mode": {
    "name": "ipython",
    "version": 3
   },
   "file_extension": ".py",
   "mimetype": "text/x-python",
   "name": "python",
   "nbconvert_exporter": "python",
   "pygments_lexer": "ipython3",
   "version": "3.6.7"
  }
 },
 "nbformat": 4,
 "nbformat_minor": 2
}
