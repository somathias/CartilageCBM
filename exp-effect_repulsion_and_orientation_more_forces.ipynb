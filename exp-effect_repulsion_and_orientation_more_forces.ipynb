{
 "cells": [
  {
   "cell_type": "markdown",
   "metadata": {},
   "source": [
    "Run this in a terminal to make sure the shared folder is mounted (only at the beginning when booting up the VM.)\n",
    "\n",
    "    sudo mount -t vboxsf -o uid=$UID,gid=$(id -g) simulation_results ~/Documents/sf_simulation_results/\n",
    "\n",
    "Then compile the Cartilage Sheet Simulation app using make.\n"
   ]
  },
  {
   "cell_type": "code",
   "execution_count": 1,
   "metadata": {},
   "outputs": [
    {
     "name": "stdout",
     "output_type": "stream",
     "text": [
      "[  5%] Built target timekeeper\n",
      "[ 15%] Built target chaste_global\n",
      "[ 15%] Built target chaste_linalg\n",
      "[ 21%] Built target chaste_io\n",
      "[ 26%] Built target chaste_ode\n",
      "[ 42%] Built target chaste_mesh\n",
      "[ 47%] Built target chaste_pde\n",
      "[ 94%] Built target chaste_cell_based\n",
      "Scanning dependencies of target chaste_project_cartilage\n",
      "[ 94%] Building CXX object projects/cartilage/CMakeFiles/chaste_project_cartilage.dir/src/NodeBasedCartilageSheet.cpp.o\n",
      "[ 94%] Building CXX object projects/cartilage/CMakeFiles/chaste_project_cartilage.dir/src/population/force/PWQGeneralisedLinearSpringForce.cpp.o\n",
      "[ 94%] Building CXX object projects/cartilage/CMakeFiles/chaste_project_cartilage.dir/src/population/force/RepulsionCubicForce.cpp.o\n",
      "[ 94%] Linking CXX shared library libchaste_project_cartilage.so\n",
      "[100%] Built target chaste_project_cartilage\n",
      "Scanning dependencies of target CartilageSheetSimulation\n",
      "[100%] Building CXX object projects/cartilage/apps/CMakeFiles/CartilageSheetSimulation.dir/src/CartilageSheetSimulation.cpp.o\n",
      "[100%] Linking CXX executable CartilageSheetSimulation\n",
      "[100%] Built target CartilageSheetSimulation\n"
     ]
    }
   ],
   "source": [
    "%%bash\n",
    "cd ../chaste_build/\n",
    "make CartilageSheetSimulation"
   ]
  },
  {
   "cell_type": "code",
   "execution_count": 2,
   "metadata": {},
   "outputs": [],
   "source": [
    "import sys\n",
    "sys.path.append('analysis')\n",
    "\n",
    "import numpy as np\n",
    "import time \n",
    "import matplotlib.pyplot as plt\n",
    "import distribute_executable as de\n",
    "import sheet_metrics as sm\n",
    "\n",
    "plt.style.use('seaborn-whitegrid')\n",
    "#plt.style.use('tableau-colorblind10')\n",
    "params = {'legend.fontsize': 'xx-large',\n",
    "          'figure.figsize': (6.75, 5),\n",
    "          'lines.linewidth': 3.0,\n",
    "         'axes.labelsize': 'xx-large',\n",
    "         'axes.titlesize':'xx-large',\n",
    "         'xtick.labelsize':'xx-large',\n",
    "         'ytick.labelsize':'xx-large',\n",
    "         'font.size': 12}\n",
    "plt.rcParams.update(params)"
   ]
  },
  {
   "cell_type": "code",
   "execution_count": 7,
   "metadata": {},
   "outputs": [],
   "source": [
    "output_directory = 'exp-cubic_force/effect_repulsion/' + time.strftime(\"%Y%m%d-%H%M%S\") +'/'\n",
    "flags = ' --sbt' # synchronized birth times\n",
    "flags = flags + ' --T 45.0' # final time 45h\n",
    "flags = flags + ' --sw 10' # 10 cells in x direction\n",
    "flags = flags + ' --sd 20' # 20 cells in y direction\n",
    "flags = flags + ' --sh 1' # 1 cell in z direction\n",
    "flags = flags + ' --mu 8.0' # For the cubic repulsion only force we set this mu \n",
    "flags = flags + ' --A 0.5' # 50% of stem cells activated\n",
    "flags = flags + ' --F cubic_repulsion_only' # cubic repulsion only force\n",
    "#flags = flags + ' --mu_R 8.0' # set repulsive spring stiffness to 8.0\n",
    "flags = flags + ' --p 0.1' # set perturbation to 0.1\n",
    "\n"
   ]
  },
  {
   "cell_type": "code",
   "execution_count": 8,
   "metadata": {},
   "outputs": [
    {
     "name": "stdout",
     "output_type": "stream",
     "text": [
      "nice -n 19 /home/kubuntu1804/Documents/chaste_build/projects/cartilage/apps/CartilageSheetSimulation --output-dir exp-cubic_force/effect_repulsion/20200304-105749/ --S 0 --sbt --T 45.0 --sw 10 --sd 20 --sh 1 --mu 8.0 --A 0.5 --F cubic_repulsion_only --p 0.1\n",
      "nice -n 19 /home/kubuntu1804/Documents/chaste_build/projects/cartilage/apps/CartilageSheetSimulation --output-dir exp-cubic_force/effect_repulsion/20200304-105749/ --S 1 --sbt --T 45.0 --sw 10 --sd 20 --sh 1 --mu 8.0 --A 0.5 --F cubic_repulsion_only --p 0.1\n",
      "nice -n 19 /home/kubuntu1804/Documents/chaste_build/projects/cartilage/apps/CartilageSheetSimulation --output-dir exp-cubic_force/effect_repulsion/20200304-105749/ --S 2 --sbt --T 45.0 --sw 10 --sd 20 --sh 1 --mu 8.0 --A 0.5 --F cubic_repulsion_only --p 0.1\n",
      "nice -n 19 /home/kubuntu1804/Documents/chaste_build/projects/cartilage/apps/CartilageSheetSimulation --output-dir exp-cubic_force/effect_repulsion/20200304-105749/ --S 3 --sbt --T 45.0 --sw 10 --sd 20 --sh 1 --mu 8.0 --A 0.5 --F cubic_repulsion_only --p 0.1\n",
      "nice -n 19 /home/kubuntu1804/Documents/chaste_build/projects/cartilage/apps/CartilageSheetSimulation --output-dir exp-cubic_force/effect_repulsion/20200304-105749/ --S 4 --sbt --T 45.0 --sw 10 --sd 20 --sh 1 --mu 8.0 --A 0.5 --F cubic_repulsion_only --p 0.1\n",
      "nice -n 19 /home/kubuntu1804/Documents/chaste_build/projects/cartilage/apps/CartilageSheetSimulation --output-dir exp-cubic_force/effect_repulsion/20200304-105749/ --S 5 --sbt --T 45.0 --sw 10 --sd 20 --sh 1 --mu 8.0 --A 0.5 --F cubic_repulsion_only --p 0.1\n",
      "nice -n 19 /home/kubuntu1804/Documents/chaste_build/projects/cartilage/apps/CartilageSheetSimulation --output-dir exp-cubic_force/effect_repulsion/20200304-105749/ --S 6 --sbt --T 45.0 --sw 10 --sd 20 --sh 1 --mu 8.0 --A 0.5 --F cubic_repulsion_only --p 0.1\n",
      "nice -n 19 /home/kubuntu1804/Documents/chaste_build/projects/cartilage/apps/CartilageSheetSimulation --output-dir exp-cubic_force/effect_repulsion/20200304-105749/ --S 7 --sbt --T 45.0 --sw 10 --sd 20 --sh 1 --mu 8.0 --A 0.5 --F cubic_repulsion_only --p 0.1\n",
      "nice -n 19 /home/kubuntu1804/Documents/chaste_build/projects/cartilage/apps/CartilageSheetSimulation --output-dir exp-cubic_force/effect_repulsion/20200304-105749/ --S 8 --sbt --T 45.0 --sw 10 --sd 20 --sh 1 --mu 8.0 --A 0.5 --F cubic_repulsion_only --p 0.1\n",
      "nice -n 19 /home/kubuntu1804/Documents/chaste_build/projects/cartilage/apps/CartilageSheetSimulation --output-dir exp-cubic_force/effect_repulsion/20200304-105749/ --S 9 --sbt --T 45.0 --sw 10 --sd 20 --sh 1 --mu 8.0 --A 0.5 --F cubic_repulsion_only --p 0.1\n",
      "Starting simulations with 2 processes\n"
     ]
    }
   ],
   "source": [
    "de.run_simulations_multiple_random_seeds(output_directory, flags=flags, number_of_simulations=10)"
   ]
  },
  {
   "cell_type": "code",
   "execution_count": 9,
   "metadata": {},
   "outputs": [
    {
     "name": "stdout",
     "output_type": "stream",
     "text": [
      "['/home/kubuntu1804/Documents/sf_simulation_results/exp-cubic_force/effect_repulsion/20200304-105749/0/results_from_time_0/', '/home/kubuntu1804/Documents/sf_simulation_results/exp-cubic_force/effect_repulsion/20200304-105749/1/results_from_time_0/', '/home/kubuntu1804/Documents/sf_simulation_results/exp-cubic_force/effect_repulsion/20200304-105749/2/results_from_time_0/', '/home/kubuntu1804/Documents/sf_simulation_results/exp-cubic_force/effect_repulsion/20200304-105749/3/results_from_time_0/', '/home/kubuntu1804/Documents/sf_simulation_results/exp-cubic_force/effect_repulsion/20200304-105749/4/results_from_time_0/', '/home/kubuntu1804/Documents/sf_simulation_results/exp-cubic_force/effect_repulsion/20200304-105749/5/results_from_time_0/', '/home/kubuntu1804/Documents/sf_simulation_results/exp-cubic_force/effect_repulsion/20200304-105749/6/results_from_time_0/', '/home/kubuntu1804/Documents/sf_simulation_results/exp-cubic_force/effect_repulsion/20200304-105749/7/results_from_time_0/', '/home/kubuntu1804/Documents/sf_simulation_results/exp-cubic_force/effect_repulsion/20200304-105749/8/results_from_time_0/', '/home/kubuntu1804/Documents/sf_simulation_results/exp-cubic_force/effect_repulsion/20200304-105749/9/results_from_time_0/']\n",
      "Starting postprocessing with 2 processes\n"
     ]
    },
    {
     "name": "stderr",
     "output_type": "stream",
     "text": [
      "analysis/sheet_metrics.py:92: RuntimeWarning: All-NaN slice encountered\n",
      "  width[:, 0] = abs(np.nanmax(coordinates[:,0::3], axis=1)- np.nanmin(coordinates[:,0::3], axis=1))\n",
      "analysis/sheet_metrics.py:92: RuntimeWarning: All-NaN axis encountered\n",
      "  width[:, 0] = abs(np.nanmax(coordinates[:,0::3], axis=1)- np.nanmin(coordinates[:,0::3], axis=1))\n",
      "analysis/sheet_metrics.py:93: RuntimeWarning: All-NaN slice encountered\n",
      "  width[:, 1] = abs(np.nanmax(coordinates[:,1::3], axis=1)- np.nanmin(coordinates[:,1::3], axis=1))\n",
      "analysis/sheet_metrics.py:93: RuntimeWarning: All-NaN axis encountered\n",
      "  width[:, 1] = abs(np.nanmax(coordinates[:,1::3], axis=1)- np.nanmin(coordinates[:,1::3], axis=1))\n",
      "analysis/sheet_metrics.py:94: RuntimeWarning: All-NaN slice encountered\n",
      "  width[:, 2] = abs(np.nanmax(coordinates[:,2::3], axis=1)- np.nanmin(coordinates[:,2::3], axis=1))\n",
      "analysis/sheet_metrics.py:94: RuntimeWarning: All-NaN axis encountered\n",
      "  width[:, 2] = abs(np.nanmax(coordinates[:,2::3], axis=1)- np.nanmin(coordinates[:,2::3], axis=1))\n",
      "analysis/sheet_metrics.py:92: RuntimeWarning: All-NaN slice encountered\n",
      "  width[:, 0] = abs(np.nanmax(coordinates[:,0::3], axis=1)- np.nanmin(coordinates[:,0::3], axis=1))\n",
      "analysis/sheet_metrics.py:92: RuntimeWarning: All-NaN axis encountered\n",
      "  width[:, 0] = abs(np.nanmax(coordinates[:,0::3], axis=1)- np.nanmin(coordinates[:,0::3], axis=1))\n",
      "analysis/sheet_metrics.py:93: RuntimeWarning: All-NaN slice encountered\n",
      "  width[:, 1] = abs(np.nanmax(coordinates[:,1::3], axis=1)- np.nanmin(coordinates[:,1::3], axis=1))\n",
      "analysis/sheet_metrics.py:93: RuntimeWarning: All-NaN axis encountered\n",
      "  width[:, 1] = abs(np.nanmax(coordinates[:,1::3], axis=1)- np.nanmin(coordinates[:,1::3], axis=1))\n",
      "analysis/sheet_metrics.py:94: RuntimeWarning: All-NaN slice encountered\n",
      "  width[:, 2] = abs(np.nanmax(coordinates[:,2::3], axis=1)- np.nanmin(coordinates[:,2::3], axis=1))\n",
      "analysis/sheet_metrics.py:94: RuntimeWarning: All-NaN axis encountered\n",
      "  width[:, 2] = abs(np.nanmax(coordinates[:,2::3], axis=1)- np.nanmin(coordinates[:,2::3], axis=1))\n",
      "/usr/lib/python3/dist-packages/numpy/core/_methods.py:135: RuntimeWarning: Degrees of freedom <= 0 for slice\n",
      "  keepdims=keepdims)\n",
      "/usr/lib/python3/dist-packages/numpy/core/_methods.py:105: RuntimeWarning: invalid value encountered in true_divide\n",
      "  arrmean, rcount, out=arrmean, casting='unsafe', subok=False)\n",
      "/usr/lib/python3/dist-packages/numpy/core/_methods.py:125: RuntimeWarning: invalid value encountered in true_divide\n",
      "  ret, rcount, out=ret, casting='unsafe', subok=False)\n",
      "/usr/lib/python3/dist-packages/numpy/core/_methods.py:135: RuntimeWarning: Degrees of freedom <= 0 for slice\n",
      "  keepdims=keepdims)\n",
      "/usr/lib/python3/dist-packages/numpy/core/_methods.py:105: RuntimeWarning: invalid value encountered in true_divide\n",
      "  arrmean, rcount, out=arrmean, casting='unsafe', subok=False)\n",
      "/usr/lib/python3/dist-packages/numpy/core/_methods.py:125: RuntimeWarning: invalid value encountered in true_divide\n",
      "  ret, rcount, out=ret, casting='unsafe', subok=False)\n",
      "/usr/lib/python3/dist-packages/numpy/core/fromnumeric.py:2909: RuntimeWarning: Mean of empty slice.\n",
      "  out=out, **kwargs)\n",
      "/usr/lib/python3/dist-packages/numpy/core/fromnumeric.py:2909: RuntimeWarning: Mean of empty slice.\n",
      "  out=out, **kwargs)\n",
      "/usr/lib/python3/dist-packages/numpy/core/_methods.py:80: RuntimeWarning: invalid value encountered in double_scalars\n",
      "  ret = ret.dtype.type(ret / rcount)\n",
      "/usr/lib/python3/dist-packages/numpy/core/_methods.py:80: RuntimeWarning: invalid value encountered in double_scalars\n",
      "  ret = ret.dtype.type(ret / rcount)\n"
     ]
    }
   ],
   "source": [
    "de.run_postprocessing_multiple_random_seeds(10, output_directory)"
   ]
  },
  {
   "cell_type": "code",
   "execution_count": 10,
   "metadata": {},
   "outputs": [
    {
     "data": {
      "text/plain": [
       "[<matplotlib.lines.Line2D at 0x7fbb5ddb1198>]"
      ]
     },
     "execution_count": 10,
     "metadata": {},
     "output_type": "execute_result"
    },
    {
     "data": {
      "image/png": "[encoded data removed]",
      "text/plain": [
       "<matplotlib.figure.Figure at 0x7fbb64d47860>"
      ]
     },
     "metadata": {},
     "output_type": "display_data"
    }
   ],
   "source": [
    "# time steps are consistent across runs, so it's sufficient to load them from a single path\n",
    "times, coords = sm.read_in_data('/home/kubuntu1804/Documents/sf_simulation_results/'+output_directory + '0/results_from_time_0/') \n",
    "\n",
    "ppa_av = np.zeros(times.shape)\n",
    "for seed in range(10):\n",
    "    ppa_av = ppa_av + np.loadtxt('/home/kubuntu1804/Documents/sf_simulation_results/'+output_directory+str(seed)+'/results_from_time_0/metrics_results/data_patch_projection_area_av.txt', dtype=float)\n",
    "ppa_av = ppa_av /10\n",
    "\n",
    "plt.plot(times, ppa_av)\n",
    "\n"
   ]
  },
  {
   "cell_type": "code",
   "execution_count": null,
   "metadata": {},
   "outputs": [],
   "source": []
  }
 ],
 "metadata": {
  "kernelspec": {
   "display_name": "Python 3",
   "language": "python",
   "name": "python3"
  },
  "language_info": {
   "codemirror_mode": {
    "name": "ipython",
    "version": 3
   },
   "file_extension": ".py",
   "mimetype": "text/x-python",
   "name": "python",
   "nbconvert_exporter": "python",
   "pygments_lexer": "ipython3",
   "version": "3.6.7"
  }
 },
 "nbformat": 4,
 "nbformat_minor": 2
}
