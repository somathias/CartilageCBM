{
 "cells": [
  {
   "cell_type": "markdown",
   "metadata": {},
   "source": [
    "Run this in a terminal to make sure the shared folder is mounted (only at the beginning when booting up the VM.)\n",
    "\n",
    "    sudo mount -t vboxsf -o uid=$UID,gid=$(id -g) simulation_results ~/Documents/sf_simulation_results/"
   ]
  },
  {
   "cell_type": "code",
   "execution_count": 1,
   "metadata": {},
   "outputs": [
    {
     "name": "stdout",
     "output_type": "stream",
     "text": [
      "[  5%] Built target timekeeper\n",
      "[ 11%] Built target chaste_global\n",
      "[ 16%] Built target chaste_linalg\n",
      "[ 16%] Built target chaste_io\n",
      "[ 22%] Built target chaste_ode\n",
      "[ 38%] Built target chaste_mesh\n",
      "[ 44%] Built target chaste_pde\n",
      "[ 88%] Built target chaste_cell_based\n",
      "[100%] Built target chaste_project_cartilage\n",
      "[100%] Built target CartilageSheetSimulation\n"
     ]
    }
   ],
   "source": [
    "%%bash\n",
    "cd ../chaste_build/\n",
    "make CartilageSheetSimulation"
   ]
  },
  {
   "cell_type": "code",
   "execution_count": 1,
   "metadata": {},
   "outputs": [],
   "source": [
    "import sys\n",
    "sys.path.append('analysis')\n",
    "\n",
    "import numpy as np\n",
    "import time \n",
    "import matplotlib.pyplot as plt\n",
    "import distribute_executable as de\n",
    "import sheet_metrics as sm\n",
    "\n",
    "plt.style.use('seaborn-whitegrid')\n",
    "#plt.style.use('tableau-colorblind10')\n",
    "params = {'legend.fontsize': 'xx-large',\n",
    "          'figure.figsize': (6.75, 5),\n",
    "          'lines.linewidth': 3.0,\n",
    "         'axes.labelsize': 'xx-large',\n",
    "         'axes.titlesize':'xx-large',\n",
    "         'xtick.labelsize':'xx-large',\n",
    "         'ytick.labelsize':'xx-large',\n",
    "         'font.size': 12}\n",
    "plt.rcParams.update(params)"
   ]
  },
  {
   "cell_type": "code",
   "execution_count": 3,
   "metadata": {},
   "outputs": [],
   "source": [
    "output_directory = 'exp-baseline/' + time.strftime(\"%Y%m%d-%H%M%S\") +'/'\n",
    "flags = ' --sbt' # synchronized birth times\n",
    "flags = flags + ' --T 80.0' # final time 80h\n",
    "flags = flags + ' --sw 8' # 8 cells in x direction\n",
    "flags = flags + ' --sd 8' # 8 cells in y direction\n",
    "flags = flags + ' --sh 4' # 4 cells in z direction\n",
    "flags = flags + ' --pu 1' # 1 layer perichondrial cells above\n",
    "flags = flags + ' --pl 1' # 1 layer perichondrial cells below\n",
    "flags = flags + ' --nb 2' # both an upper and a lower rigid boundary\n",
    "flags = flags + ' --mu 0.0' # adhesive spring stiffness set to 0.0 (ratio 0.25)\n",
    "flags = flags + ' --A 0.25' # proliferation rate of 25%\n",
    "flags = flags + ' --F pwq' # PWQ force\n",
    "flags = flags + ' --mu_R 20.0' # set repulsive spring stiffness to 20.0\n",
    "flags = flags + ' --p 0.1' # set perturbation to 0.1\n",
    "flags = flags + ' --psl 4'\n",
    "flags = flags + ' --u 3.0' # set distance between boundaries to 3.0\n",
    "#flags = flags + ' --cg ' # use a Cartesian grid for initial placement\n",
    "flags = flags + ' --sc 1.2' # scale initial sheet to generate more space\n",
    "flags = flags + ' --g1t 10.0' # g1 duration for transit cells\n",
    "flags = flags + ' --ds 3.0' # s phase duration\n",
    "\n",
    "#flags = flags + ' --rdd' #random division directions\n",
    "\n",
    "executable='/home/kubuntu1804/Documents/chaste_build/projects/cartilage/apps/CartilageSheetSimulation'"
   ]
  },
  {
   "cell_type": "code",
   "execution_count": 4,
   "metadata": {},
   "outputs": [
    {
     "name": "stdout",
     "output_type": "stream",
     "text": [
      "nice -n 19 /home/kubuntu1804/Documents/chaste_build/projects/cartilage/apps/CartilageSheetSimulation --output-dir exp-baseline/20210428-095510/ --S 0 --sbt --T 80.0 --sw 8 --sd 8 --sh 4 --pu 1 --pl 1 --nb 2 --mu 0.0 --A 0.25 --F pwq --mu_R 20.0 --p 0.1 --psl 4 --u 3.0 --sc 1.2 --g1t 10.0 --ds 3.0\n",
      "nice -n 19 /home/kubuntu1804/Documents/chaste_build/projects/cartilage/apps/CartilageSheetSimulation --output-dir exp-baseline/20210428-095510/ --S 1 --sbt --T 80.0 --sw 8 --sd 8 --sh 4 --pu 1 --pl 1 --nb 2 --mu 0.0 --A 0.25 --F pwq --mu_R 20.0 --p 0.1 --psl 4 --u 3.0 --sc 1.2 --g1t 10.0 --ds 3.0\n",
      "nice -n 19 /home/kubuntu1804/Documents/chaste_build/projects/cartilage/apps/CartilageSheetSimulation --output-dir exp-baseline/20210428-095510/ --S 2 --sbt --T 80.0 --sw 8 --sd 8 --sh 4 --pu 1 --pl 1 --nb 2 --mu 0.0 --A 0.25 --F pwq --mu_R 20.0 --p 0.1 --psl 4 --u 3.0 --sc 1.2 --g1t 10.0 --ds 3.0\n",
      "nice -n 19 /home/kubuntu1804/Documents/chaste_build/projects/cartilage/apps/CartilageSheetSimulation --output-dir exp-baseline/20210428-095510/ --S 3 --sbt --T 80.0 --sw 8 --sd 8 --sh 4 --pu 1 --pl 1 --nb 2 --mu 0.0 --A 0.25 --F pwq --mu_R 20.0 --p 0.1 --psl 4 --u 3.0 --sc 1.2 --g1t 10.0 --ds 3.0\n",
      "nice -n 19 /home/kubuntu1804/Documents/chaste_build/projects/cartilage/apps/CartilageSheetSimulation --output-dir exp-baseline/20210428-095510/ --S 4 --sbt --T 80.0 --sw 8 --sd 8 --sh 4 --pu 1 --pl 1 --nb 2 --mu 0.0 --A 0.25 --F pwq --mu_R 20.0 --p 0.1 --psl 4 --u 3.0 --sc 1.2 --g1t 10.0 --ds 3.0\n",
      "nice -n 19 /home/kubuntu1804/Documents/chaste_build/projects/cartilage/apps/CartilageSheetSimulation --output-dir exp-baseline/20210428-095510/ --S 5 --sbt --T 80.0 --sw 8 --sd 8 --sh 4 --pu 1 --pl 1 --nb 2 --mu 0.0 --A 0.25 --F pwq --mu_R 20.0 --p 0.1 --psl 4 --u 3.0 --sc 1.2 --g1t 10.0 --ds 3.0\n",
      "Starting simulations with 2 processes\n"
     ]
    }
   ],
   "source": [
    "de.run_simulations_multiple_random_seeds(output_directory, flags=flags, number_of_simulations=6, executable=executable)"
   ]
  },
  {
   "cell_type": "code",
   "execution_count": 2,
   "metadata": {},
   "outputs": [],
   "source": [
    "output_directory = 'exp-baseline/20210428-095510/'"
   ]
  },
  {
   "cell_type": "code",
   "execution_count": 3,
   "metadata": {},
   "outputs": [
    {
     "name": "stdout",
     "output_type": "stream",
     "text": [
      "['/home/kubuntu1804/Documents/sf_simulation_results/exp-baseline/20210428-095510/0/results_from_time_0/', '/home/kubuntu1804/Documents/sf_simulation_results/exp-baseline/20210428-095510/1/results_from_time_0/', '/home/kubuntu1804/Documents/sf_simulation_results/exp-baseline/20210428-095510/2/results_from_time_0/', '/home/kubuntu1804/Documents/sf_simulation_results/exp-baseline/20210428-095510/3/results_from_time_0/', '/home/kubuntu1804/Documents/sf_simulation_results/exp-baseline/20210428-095510/4/results_from_time_0/', '/home/kubuntu1804/Documents/sf_simulation_results/exp-baseline/20210428-095510/5/results_from_time_0/']\n",
      "Starting postprocessing with 2 processes\n"
     ]
    },
    {
     "name": "stderr",
     "output_type": "stream",
     "text": [
      "analysis/sheet_metrics.py:104: RuntimeWarning: All-NaN slice encountered\n",
      "  width[:, 0] = abs(np.nanmax(coordinates[:,0::3], axis=1)- np.nanmin(coordinates[:,0::3], axis=1))\n",
      "analysis/sheet_metrics.py:105: RuntimeWarning: All-NaN slice encountered\n",
      "  width[:, 1] = abs(np.nanmax(coordinates[:,1::3], axis=1)- np.nanmin(coordinates[:,1::3], axis=1))\n",
      "analysis/sheet_metrics.py:106: RuntimeWarning: All-NaN slice encountered\n",
      "  width[:, 2] = abs(np.nanmax(coordinates[:,2::3], axis=1)- np.nanmin(coordinates[:,2::3], axis=1))\n",
      "analysis/sheet_metrics.py:104: RuntimeWarning: All-NaN slice encountered\n",
      "  width[:, 0] = abs(np.nanmax(coordinates[:,0::3], axis=1)- np.nanmin(coordinates[:,0::3], axis=1))\n",
      "analysis/sheet_metrics.py:105: RuntimeWarning: All-NaN slice encountered\n",
      "  width[:, 1] = abs(np.nanmax(coordinates[:,1::3], axis=1)- np.nanmin(coordinates[:,1::3], axis=1))\n",
      "analysis/sheet_metrics.py:106: RuntimeWarning: All-NaN slice encountered\n",
      "  width[:, 2] = abs(np.nanmax(coordinates[:,2::3], axis=1)- np.nanmin(coordinates[:,2::3], axis=1))\n",
      "analysis/evaluate_cartilage_sheet.py:235: RuntimeWarning: Mean of empty slice\n",
      "  ppa_mean = np.nanmean(ppa, axis=0)\n",
      "/home/kubuntu1804/.local/lib/python3.6/site-packages/numpy/lib/nanfunctions.py:1665: RuntimeWarning: Degrees of freedom <= 0 for slice.\n",
      "  keepdims=keepdims)\n",
      "analysis/evaluate_cartilage_sheet.py:235: RuntimeWarning: Mean of empty slice\n",
      "  ppa_mean = np.nanmean(ppa, axis=0)\n",
      "/home/kubuntu1804/.local/lib/python3.6/site-packages/numpy/lib/nanfunctions.py:1665: RuntimeWarning: Degrees of freedom <= 0 for slice.\n",
      "  keepdims=keepdims)\n"
     ]
    }
   ],
   "source": [
    "de.run_postprocessing_multiple_random_seeds(6, output_directory)"
   ]
  },
  {
   "cell_type": "markdown",
   "metadata": {},
   "source": [
    "### Generate baseline experiment to show that oriented cell division is insufficient for intercalation"
   ]
  },
  {
   "cell_type": "markdown",
   "metadata": {},
   "source": [
    "Data:\n",
    "    - 6 random seeds\n",
    "        nice -n 19 /home/kubuntu1804/Documents/chaste_build/projects/cartilage/apps/CartilageSheetSimulation --output-dir exp-baseline/20210428-095510/ --S 0 --sbt --T 80.0 --sw 8 --sd 8 --sh 4 --pu 1 --pl 1 --nb 2 --mu 0.0 --A 0.25 --F pwq --mu_R 20.0 --p 0.1 --psl 4 --u 3.0 --sc 1.2 --g1t 10.0 --ds 3.0"
   ]
  },
  {
   "cell_type": "code",
   "execution_count": 4,
   "metadata": {},
   "outputs": [
    {
     "data": {
      "text/plain": [
       "Text(0, 0.5, 'Average patch projection area')"
      ]
     },
     "execution_count": 4,
     "metadata": {},
     "output_type": "execute_result"
    },
    {
     "data": {
      "image/png": "[encoded data removed]",
      "text/plain": [
       "<Figure size 432x288 with 1 Axes>"
      ]
     },
     "metadata": {},
     "output_type": "display_data"
    }
   ],
   "source": [
    "dir_directed = 'exp-baseline/20210428-095510/'\n",
    "\n",
    "# time steps are consistent across runs, so it's sufficient to load them from a single path\n",
    "times_d, coords_d = sm.read_in_data('/home/kubuntu1804/Documents/sf_simulation_results/'+dir_directed + '0/results_from_time_0/') \n",
    "\n",
    "ppa_av_d = np.zeros(times_d.shape)\n",
    "for seed in range(6):\n",
    "    ppa_av_d = ppa_av_d + np.loadtxt('/home/kubuntu1804/Documents/sf_simulation_results/'+dir_directed+str(seed)+'/results_from_time_0/metrics_results/data_patch_projection_area_av.txt', dtype=float)\n",
    "ppa_av_d = ppa_av_d /6\n",
    "\n",
    "\n",
    "plt.plot(times_d, ppa_av_d)\n",
    "#plt.legend()\n",
    "plt.xlabel('Time')\n",
    "plt.ylabel('Average patch projection area')"
   ]
  },
  {
   "cell_type": "code",
   "execution_count": null,
   "metadata": {},
   "outputs": [],
   "source": []
  }
 ],
 "metadata": {
  "kernelspec": {
   "display_name": "Python 3",
   "language": "python",
   "name": "python3"
  },
  "language_info": {
   "codemirror_mode": {
    "name": "ipython",
    "version": 3
   },
   "file_extension": ".py",
   "mimetype": "text/x-python",
   "name": "python",
   "nbconvert_exporter": "python",
   "pygments_lexer": "ipython3",
   "version": "3.6.7"
  }
 },
 "nbformat": 4,
 "nbformat_minor": 2
}
