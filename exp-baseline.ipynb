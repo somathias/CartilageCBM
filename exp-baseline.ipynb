{
 "cells": [
  {
   "cell_type": "markdown",
   "metadata": {},
   "source": [
    "Run this in a terminal to make sure the shared folder is mounted (only at the beginning when booting up the VM.)\n",
    "\n",
    "    sudo mount -t vboxsf -o uid=$UID,gid=$(id -g) simulation_results ~/Documents/sf_simulation_results/"
   ]
  },
  {
   "cell_type": "code",
   "execution_count": 1,
   "metadata": {},
   "outputs": [
    {
     "name": "stdout",
     "output_type": "stream",
     "text": [
      "[  5%] Built target timekeeper\n",
      "[ 11%] Built target chaste_global\n",
      "[ 16%] Built target chaste_linalg\n",
      "[ 16%] Built target chaste_io\n",
      "[ 22%] Built target chaste_ode\n",
      "[ 38%] Built target chaste_mesh\n",
      "[ 44%] Built target chaste_pde\n",
      "[ 88%] Built target chaste_cell_based\n",
      "[100%] Built target chaste_project_cartilage\n",
      "[100%] Linking CXX executable CartilageSheetSimulation\n",
      "[100%] Built target CartilageSheetSimulation\n"
     ]
    }
   ],
   "source": [
    "%%bash\n",
    "cd ../chaste_build/\n",
    "make CartilageSheetSimulation"
   ]
  },
  {
   "cell_type": "code",
   "execution_count": 2,
   "metadata": {},
   "outputs": [],
   "source": [
    "import sys\n",
    "sys.path.append('analysis')\n",
    "\n",
    "import numpy as np\n",
    "import time \n",
    "import matplotlib.pyplot as plt\n",
    "import distribute_executable as de\n",
    "import sheet_metrics as sm\n",
    "\n",
    "plt.style.use('seaborn-whitegrid')\n",
    "plt.style.use('tableau-colorblind10')\n",
    "params = {'legend.fontsize': 'xx-large',\n",
    "          'figure.figsize': (6.75, 5),\n",
    "          'lines.linewidth': 3.0,\n",
    "          'axes.labelsize': 'xx-large',\n",
    "          'axes.titlesize':'xx-large',\n",
    "          'xtick.labelsize':'xx-large',\n",
    "          'ytick.labelsize':'xx-large',\n",
    "          'legend.fontsize': 'xx-large',\n",
    "          'font.size': 12,\n",
    "          'axes.titlepad': 12,\n",
    "          'axes.labelpad': 12,\n",
    "          'font.family': 'serif',\n",
    "          'mathtext.fontset': 'cm',\n",
    "         }\n",
    "plt.rcParams.update(params)\n",
    "\n",
    "defcolors = plt.rcParams['axes.prop_cycle'].by_key()['color']\n",
    "\n",
    "path_to_label_files = '/home/kubuntu1804/Documents/sf_simulation_results/exp-draft/picked_result_files/'\n",
    "path_to_plots = '/home/kubuntu1804/Documents/sf_simulation_results/exp-draft/plots/'"
   ]
  },
  {
   "cell_type": "code",
   "execution_count": 3,
   "metadata": {},
   "outputs": [],
   "source": [
    "#output_directory = 'exp-baseline/' + time.strftime(\"%Y%m%d-%H%M%S\") +'/'\n",
    "output_directory = 'exp-draft/cartilage_sheet/baseline/' + time.strftime(\"%Y%m%d-%H%M%S\") +'/'\n",
    "\n",
    "flags = ''\n",
    "#flags = ' --sbt' # synchronized birth times\n",
    "flags = flags + ' --T 80.0' # final time 80h\n",
    "flags = flags + ' --sw 8' # 8 cells in x direction\n",
    "flags = flags + ' --sd 12' # 12 cells in y direction\n",
    "flags = flags + ' --sh 6' # 6 cells in z direction\n",
    "flags = flags + ' --pu 1' # 1 layer perichondrial cells above (taken from the specified number of cells in the z-direction)\n",
    "flags = flags + ' --pl 1' # 1 layer perichondrial cells below (taken from the specified number of cells in the z-direction)\n",
    "flags = flags + ' --nb 2' # both an upper and a lower rigid boundary\n",
    "flags = flags + ' --mu 0.0' # adhesive spring stiffness set to 0.0 (ratio 0.25)\n",
    "flags = flags + ' --A 0.2' # proliferation rate of 20%\n",
    "flags = flags + ' --F pwq' # PWQ force\n",
    "flags = flags + ' --mu_R 20.0' # set repulsive spring stiffness to 20.0\n",
    "flags = flags + ' --p 0.1' # set perturbation to 0.1\n",
    "flags = flags + ' --psl 5'\n",
    "flags = flags + ' --u 5.5' # set distance between boundaries to 5.5\n",
    "#flags = flags + ' --cg ' # use a Cartesian grid for initial placement\n",
    "flags = flags + ' --sc 1.075' # scale initial sheet to generate more space\n",
    "flags = flags + ' --g1s 20.0' # g1 duration for stem cells (perichondrial cells)\n",
    "flags = flags + ' --g1t 10.0' # g1 duration for transit cells (chondrocytes)\n",
    "flags = flags + ' --ds 3.0' # s phase duration\n",
    "\n",
    "#flags = flags + ' --rdd' #random division directions\n",
    "\n",
    "executable='/home/kubuntu1804/Documents/chaste_build/projects/cartilage/apps/CartilageSheetSimulation'"
   ]
  },
  {
   "cell_type": "code",
   "execution_count": 4,
   "metadata": {},
   "outputs": [
    {
     "name": "stdout",
     "output_type": "stream",
     "text": [
      "nice -n 19 /home/kubuntu1804/Documents/chaste_build/projects/cartilage/apps/CartilageSheetSimulation --output-dir exp-draft/cartilage_sheet/baseline/20220608-154334/ --S 0 --sbt --T 80.0 --sw 8 --sd 12 --sh 6 --pu 1 --pl 1 --nb 2 --mu 0.0 --A 0.2 --F pwq --mu_R 20.0 --p 0.1 --psl 5 --u 5.5 --sc 1.075 --g1s 20.0 --g1t 10.0 --ds 3.0\n",
      "nice -n 19 /home/kubuntu1804/Documents/chaste_build/projects/cartilage/apps/CartilageSheetSimulation --output-dir exp-draft/cartilage_sheet/baseline/20220608-154334/ --S 1 --sbt --T 80.0 --sw 8 --sd 12 --sh 6 --pu 1 --pl 1 --nb 2 --mu 0.0 --A 0.2 --F pwq --mu_R 20.0 --p 0.1 --psl 5 --u 5.5 --sc 1.075 --g1s 20.0 --g1t 10.0 --ds 3.0\n",
      "nice -n 19 /home/kubuntu1804/Documents/chaste_build/projects/cartilage/apps/CartilageSheetSimulation --output-dir exp-draft/cartilage_sheet/baseline/20220608-154334/ --S 2 --sbt --T 80.0 --sw 8 --sd 12 --sh 6 --pu 1 --pl 1 --nb 2 --mu 0.0 --A 0.2 --F pwq --mu_R 20.0 --p 0.1 --psl 5 --u 5.5 --sc 1.075 --g1s 20.0 --g1t 10.0 --ds 3.0\n",
      "nice -n 19 /home/kubuntu1804/Documents/chaste_build/projects/cartilage/apps/CartilageSheetSimulation --output-dir exp-draft/cartilage_sheet/baseline/20220608-154334/ --S 3 --sbt --T 80.0 --sw 8 --sd 12 --sh 6 --pu 1 --pl 1 --nb 2 --mu 0.0 --A 0.2 --F pwq --mu_R 20.0 --p 0.1 --psl 5 --u 5.5 --sc 1.075 --g1s 20.0 --g1t 10.0 --ds 3.0\n",
      "nice -n 19 /home/kubuntu1804/Documents/chaste_build/projects/cartilage/apps/CartilageSheetSimulation --output-dir exp-draft/cartilage_sheet/baseline/20220608-154334/ --S 4 --sbt --T 80.0 --sw 8 --sd 12 --sh 6 --pu 1 --pl 1 --nb 2 --mu 0.0 --A 0.2 --F pwq --mu_R 20.0 --p 0.1 --psl 5 --u 5.5 --sc 1.075 --g1s 20.0 --g1t 10.0 --ds 3.0\n",
      "nice -n 19 /home/kubuntu1804/Documents/chaste_build/projects/cartilage/apps/CartilageSheetSimulation --output-dir exp-draft/cartilage_sheet/baseline/20220608-154334/ --S 5 --sbt --T 80.0 --sw 8 --sd 12 --sh 6 --pu 1 --pl 1 --nb 2 --mu 0.0 --A 0.2 --F pwq --mu_R 20.0 --p 0.1 --psl 5 --u 5.5 --sc 1.075 --g1s 20.0 --g1t 10.0 --ds 3.0\n",
      "nice -n 19 /home/kubuntu1804/Documents/chaste_build/projects/cartilage/apps/CartilageSheetSimulation --output-dir exp-draft/cartilage_sheet/baseline/20220608-154334/ --S 6 --sbt --T 80.0 --sw 8 --sd 12 --sh 6 --pu 1 --pl 1 --nb 2 --mu 0.0 --A 0.2 --F pwq --mu_R 20.0 --p 0.1 --psl 5 --u 5.5 --sc 1.075 --g1s 20.0 --g1t 10.0 --ds 3.0\n",
      "nice -n 19 /home/kubuntu1804/Documents/chaste_build/projects/cartilage/apps/CartilageSheetSimulation --output-dir exp-draft/cartilage_sheet/baseline/20220608-154334/ --S 7 --sbt --T 80.0 --sw 8 --sd 12 --sh 6 --pu 1 --pl 1 --nb 2 --mu 0.0 --A 0.2 --F pwq --mu_R 20.0 --p 0.1 --psl 5 --u 5.5 --sc 1.075 --g1s 20.0 --g1t 10.0 --ds 3.0\n",
      "Starting simulations with 2 processes\n"
     ]
    }
   ],
   "source": [
    "de.run_simulations_multiple_random_seeds(output_directory, flags=flags, number_of_simulations=8, executable=executable)"
   ]
  },
  {
   "cell_type": "markdown",
   "metadata": {},
   "source": [
    "output_directory = 'exp-baseline/20210428-095510/'"
   ]
  },
  {
   "cell_type": "code",
   "execution_count": 5,
   "metadata": {},
   "outputs": [
    {
     "name": "stdout",
     "output_type": "stream",
     "text": [
      "['/home/kubuntu1804/Documents/sf_simulation_results/exp-draft/cartilage_sheet/baseline/20220608-154334/0/results_from_time_0/', '/home/kubuntu1804/Documents/sf_simulation_results/exp-draft/cartilage_sheet/baseline/20220608-154334/1/results_from_time_0/', '/home/kubuntu1804/Documents/sf_simulation_results/exp-draft/cartilage_sheet/baseline/20220608-154334/2/results_from_time_0/', '/home/kubuntu1804/Documents/sf_simulation_results/exp-draft/cartilage_sheet/baseline/20220608-154334/3/results_from_time_0/', '/home/kubuntu1804/Documents/sf_simulation_results/exp-draft/cartilage_sheet/baseline/20220608-154334/4/results_from_time_0/', '/home/kubuntu1804/Documents/sf_simulation_results/exp-draft/cartilage_sheet/baseline/20220608-154334/5/results_from_time_0/']\n",
      "Starting postprocessing with 2 processes\n"
     ]
    },
    {
     "name": "stderr",
     "output_type": "stream",
     "text": [
      "analysis/sheet_metrics.py:104: RuntimeWarning: All-NaN slice encountered\n",
      "  width[:, 0] = abs(np.nanmax(coordinates[:,0::3], axis=1)- np.nanmin(coordinates[:,0::3], axis=1))\n",
      "analysis/sheet_metrics.py:104: RuntimeWarning: All-NaN slice encountered\n",
      "  width[:, 0] = abs(np.nanmax(coordinates[:,0::3], axis=1)- np.nanmin(coordinates[:,0::3], axis=1))\n",
      "analysis/sheet_metrics.py:105: RuntimeWarning: All-NaN slice encountered\n",
      "  width[:, 1] = abs(np.nanmax(coordinates[:,1::3], axis=1)- np.nanmin(coordinates[:,1::3], axis=1))\n",
      "analysis/sheet_metrics.py:105: RuntimeWarning: All-NaN slice encountered\n",
      "  width[:, 1] = abs(np.nanmax(coordinates[:,1::3], axis=1)- np.nanmin(coordinates[:,1::3], axis=1))\n",
      "analysis/sheet_metrics.py:106: RuntimeWarning: All-NaN slice encountered\n",
      "  width[:, 2] = abs(np.nanmax(coordinates[:,2::3], axis=1)- np.nanmin(coordinates[:,2::3], axis=1))\n",
      "analysis/sheet_metrics.py:106: RuntimeWarning: All-NaN slice encountered\n",
      "  width[:, 2] = abs(np.nanmax(coordinates[:,2::3], axis=1)- np.nanmin(coordinates[:,2::3], axis=1))\n",
      "analysis/evaluate_cartilage_sheet.py:235: RuntimeWarning: Mean of empty slice\n",
      "  ppa_mean = np.nanmean(ppa, axis=0)\n",
      "/home/kubuntu1804/.local/lib/python3.6/site-packages/numpy/lib/nanfunctions.py:1665: RuntimeWarning: Degrees of freedom <= 0 for slice.\n",
      "  keepdims=keepdims)\n",
      "analysis/evaluate_cartilage_sheet.py:235: RuntimeWarning: Mean of empty slice\n",
      "  ppa_mean = np.nanmean(ppa, axis=0)\n",
      "/home/kubuntu1804/.local/lib/python3.6/site-packages/numpy/lib/nanfunctions.py:1665: RuntimeWarning: Degrees of freedom <= 0 for slice.\n",
      "  keepdims=keepdims)\n"
     ]
    }
   ],
   "source": [
    "de.run_postprocessing_multiple_random_seeds(6, output_directory)"
   ]
  },
  {
   "cell_type": "markdown",
   "metadata": {},
   "source": [
    "### Generate baseline experiment to show that oriented cell division is insufficient for intercalation"
   ]
  },
  {
   "cell_type": "markdown",
   "metadata": {},
   "source": [
    "Data:\n",
    "- 8 random seeds\n",
    "        nice -n 19 /home/kubuntu1804/Documents/chaste_build/projects/cartilage/apps/CartilageSheetSimulation --output-dir exp-draft/cartilage_sheet/baseline/20220607-131412/ --S 0 --T 80.0 --sw 8 --sd 12 --sh 6 --pu 1 --pl 1 --nb 2 --mu 0.0 --A 0.25 --F pwq --mu_R 20.0 --p 0.1 --psl 5 --u 5.5 --sc 1.075 --g1t 10.0 --ds 3.0\n",
    "- 8 random seeds with synchronized birthtimes\n",
    "        nice -n 19 /home/kubuntu1804/Documents/chaste_build/projects/cartilage/apps/CartilageSheetSimulation --output-dir exp-draft/cartilage_sheet/baseline/20220607-134419/ --S 0 --sbt --T 80.0 --sw 8 --sd 12 --sh 6 --pu 1 --pl 1 --nb 2 --mu 0.0 --A 0.25 --F pwq --mu_R 20.0 --p 0.1 --psl 5 --u 5.5 --sc 1.075 --g1t 10.0 --ds 3.0\n",
    "- 8 random seeds, fixed border effects and choosing of birth times (--sbt flag has no effect any longer)\n",
    "        nice -n 19 /home/kubuntu1804/Documents/chaste_build/projects/cartilage/apps/CartilageSheetSimulation --output-dir exp-draft/cartilage_sheet/baseline/20220608-154334/ --S 0 --sbt --T 80.0 --sw 8 --sd 12 --sh 6 --pu 1 --pl 1 --nb 2 --mu 0.0 --A 0.2 --F pwq --mu_R 20.0 --p 0.1 --psl 5 --u 5.5 --sc 1.075 --g1s 20.0 --g1t 10.0 --ds 3.0"
   ]
  },
  {
   "cell_type": "code",
   "execution_count": 6,
   "metadata": {},
   "outputs": [],
   "source": [
    "dir_baseline = 'exp-draft/cartilage_sheet/baseline/20220608-154334/'\n",
    "\n",
    "# save label-path tuple\n",
    "with open(path_to_label_files+'baseline', 'w') as f:\n",
    "    f.write(dir_baseline+'0/')\n"
   ]
  },
  {
   "cell_type": "code",
   "execution_count": 7,
   "metadata": {},
   "outputs": [
    {
     "ename": "ValueError",
     "evalue": "operands could not be broadcast together with shapes (801,) (59,) ",
     "output_type": "error",
     "traceback": [
      "\u001b[0;31m---------------------------------------------------------------------------\u001b[0m",
      "\u001b[0;31mValueError\u001b[0m                                Traceback (most recent call last)",
      "\u001b[0;32m<ipython-input-7-a140b702d89a>\u001b[0m in \u001b[0;36m<module>\u001b[0;34m()\u001b[0m\n\u001b[1;32m      5\u001b[0m \u001b[0mppa_av_d\u001b[0m \u001b[0;34m=\u001b[0m \u001b[0mnp\u001b[0m\u001b[0;34m.\u001b[0m\u001b[0mzeros\u001b[0m\u001b[0;34m(\u001b[0m\u001b[0mtimes_d\u001b[0m\u001b[0;34m.\u001b[0m\u001b[0mshape\u001b[0m\u001b[0;34m)\u001b[0m\u001b[0;34m\u001b[0m\u001b[0;34m\u001b[0m\u001b[0m\n\u001b[1;32m      6\u001b[0m \u001b[0;32mfor\u001b[0m \u001b[0mseed\u001b[0m \u001b[0;32min\u001b[0m \u001b[0mrange\u001b[0m\u001b[0;34m(\u001b[0m\u001b[0;36m6\u001b[0m\u001b[0;34m)\u001b[0m\u001b[0;34m:\u001b[0m\u001b[0;34m\u001b[0m\u001b[0;34m\u001b[0m\u001b[0m\n\u001b[0;32m----> 7\u001b[0;31m     \u001b[0mppa_av_d\u001b[0m \u001b[0;34m=\u001b[0m \u001b[0mppa_av_d\u001b[0m \u001b[0;34m+\u001b[0m \u001b[0mnp\u001b[0m\u001b[0;34m.\u001b[0m\u001b[0mloadtxt\u001b[0m\u001b[0;34m(\u001b[0m\u001b[0;34m'/home/kubuntu1804/Documents/sf_simulation_results/'\u001b[0m\u001b[0;34m+\u001b[0m\u001b[0mdir_baseline\u001b[0m\u001b[0;34m+\u001b[0m\u001b[0mstr\u001b[0m\u001b[0;34m(\u001b[0m\u001b[0mseed\u001b[0m\u001b[0;34m)\u001b[0m\u001b[0;34m+\u001b[0m\u001b[0;34m'/results_from_time_0/metrics_results/data_patch_projection_area_av.txt'\u001b[0m\u001b[0;34m,\u001b[0m \u001b[0mdtype\u001b[0m\u001b[0;34m=\u001b[0m\u001b[0mfloat\u001b[0m\u001b[0;34m)\u001b[0m\u001b[0;34m\u001b[0m\u001b[0;34m\u001b[0m\u001b[0m\n\u001b[0m\u001b[1;32m      8\u001b[0m \u001b[0mppa_av_d\u001b[0m \u001b[0;34m=\u001b[0m \u001b[0mppa_av_d\u001b[0m \u001b[0;34m/\u001b[0m\u001b[0;36m6\u001b[0m\u001b[0;34m\u001b[0m\u001b[0;34m\u001b[0m\u001b[0m\n\u001b[1;32m      9\u001b[0m \u001b[0;34m\u001b[0m\u001b[0m\n",
      "\u001b[0;31mValueError\u001b[0m: operands could not be broadcast together with shapes (801,) (59,) "
     ]
    }
   ],
   "source": [
    "\n",
    "# time steps are consistent across runs, so it's sufficient to load them from a single path\n",
    "times_d, coords_d = sm.read_in_data('/home/kubuntu1804/Documents/sf_simulation_results/'+dir_baseline + '0/results_from_time_0/') \n",
    "\n",
    "ppa_av_d = np.zeros(times_d.shape)\n",
    "for seed in range(6):\n",
    "    ppa_av_d = ppa_av_d + np.loadtxt('/home/kubuntu1804/Documents/sf_simulation_results/'+dir_baseline+str(seed)+'/results_from_time_0/metrics_results/data_patch_projection_area_av.txt', dtype=float)\n",
    "ppa_av_d = ppa_av_d /6\n",
    "\n",
    "\n",
    "plt.plot(times_d, ppa_av_d)\n",
    "#plt.legend()\n",
    "plt.xlabel('Time')\n",
    "plt.ylabel('Average patch projection area')"
   ]
  },
  {
   "cell_type": "code",
   "execution_count": 9,
   "metadata": {},
   "outputs": [
    {
     "data": {
      "text/plain": [
       "(801,)"
      ]
     },
     "execution_count": 9,
     "metadata": {},
     "output_type": "execute_result"
    }
   ],
   "source": [
    "times_d.shape"
   ]
  },
  {
   "cell_type": "markdown",
   "metadata": {},
   "source": [
    "Is the calculation correct? This looks rather (too) good. I think the above error needs to be understood first."
   ]
  },
  {
   "cell_type": "code",
   "execution_count": 10,
   "metadata": {},
   "outputs": [
    {
     "data": {
      "text/plain": [
       "(801, 1911)"
      ]
     },
     "execution_count": 10,
     "metadata": {},
     "output_type": "execute_result"
    }
   ],
   "source": [
    "coords_d.shape"
   ]
  },
  {
   "cell_type": "code",
   "execution_count": null,
   "metadata": {},
   "outputs": [],
   "source": []
  }
 ],
 "metadata": {
  "kernelspec": {
   "display_name": "Python 3",
   "language": "python",
   "name": "python3"
  },
  "language_info": {
   "codemirror_mode": {
    "name": "ipython",
    "version": 3
   },
   "file_extension": ".py",
   "mimetype": "text/x-python",
   "name": "python",
   "nbconvert_exporter": "python",
   "pygments_lexer": "ipython3",
   "version": "3.6.7"
  }
 },
 "nbformat": 4,
 "nbformat_minor": 2
}
