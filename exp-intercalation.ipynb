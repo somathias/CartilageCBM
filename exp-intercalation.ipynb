{
 "cells": [
  {
   "cell_type": "markdown",
   "metadata": {},
   "source": [
    "Run this in a terminal to make sure the shared folder is mounted (only at the beginning when booting up the VM.)\n",
    "\n",
    "    sudo mount -t vboxsf -o uid=$UID,gid=$(id -g) simulation_results ~/Documents/sf_simulation_results/"
   ]
  },
  {
   "cell_type": "code",
   "execution_count": 6,
   "metadata": {},
   "outputs": [
    {
     "name": "stdout",
     "output_type": "stream",
     "text": [
      "[  5%] Built target timekeeper\n",
      "[ 10%] Built target chaste_global\n",
      "[ 10%] Built target chaste_linalg\n",
      "[ 15%] Built target chaste_io\n",
      "[ 21%] Built target chaste_ode\n",
      "[ 42%] Built target chaste_mesh\n",
      "[ 47%] Built target chaste_pde\n",
      "[ 94%] Built target chaste_cell_based\n",
      "Scanning dependencies of target chaste_project_cartilage\n",
      "[ 94%] Building CXX object projects/cartilage/CMakeFiles/chaste_project_cartilage.dir/src/NodeBasedMesenchymalCondensation.cpp.o\n",
      "[ 94%] Linking CXX shared library libchaste_project_cartilage.so\n",
      "[100%] Built target chaste_project_cartilage\n",
      "Scanning dependencies of target CartilageSheetSimulation\n",
      "[100%] Building CXX object projects/cartilage/apps/CMakeFiles/CartilageSheetSimulation.dir/src/CartilageSheetSimulation.cpp.o\n",
      "[100%] Linking CXX executable CartilageSheetSimulation\n",
      "[100%] Built target CartilageSheetSimulation\n"
     ]
    }
   ],
   "source": [
    "%%bash\n",
    "cd ../chaste_build/\n",
    "make CartilageSheetSimulation"
   ]
  },
  {
   "cell_type": "code",
   "execution_count": 3,
   "metadata": {},
   "outputs": [],
   "source": [
    "import sys\n",
    "sys.path.append('analysis')\n",
    "\n",
    "import numpy as np\n",
    "import time \n",
    "import matplotlib.pyplot as plt\n",
    "import distribute_executable as de\n",
    "import sheet_metrics as sm\n",
    "\n",
    "plt.style.use('seaborn-whitegrid')\n",
    "#plt.style.use('tableau-colorblind10')\n",
    "params = {'legend.fontsize': 'xx-large',\n",
    "          'figure.figsize': (6.75, 5),\n",
    "          'lines.linewidth': 3.0,\n",
    "         'axes.labelsize': 'xx-large',\n",
    "         'axes.titlesize':'xx-large',\n",
    "         'xtick.labelsize':'xx-large',\n",
    "         'ytick.labelsize':'xx-large',\n",
    "         'font.size': 12}\n",
    "plt.rcParams.update(params)"
   ]
  },
  {
   "cell_type": "markdown",
   "metadata": {},
   "source": [
    "# Let's try and see\n",
    "We set\n",
    "- lower and upper rigid boundaries\n",
    "- lower and upper perichondrial layer\n",
    "- chondrocyte layers in between, nicely stacked at cartesian coordinates, filling the space between the rigid boundaries\n",
    "- repulsion only\n",
    "- oriented cell division\n",
    "- clonal patch size maximum to 6 cells "
   ]
  },
  {
   "cell_type": "markdown",
   "metadata": {},
   "source": [
    "## First without scaling"
   ]
  },
  {
   "cell_type": "markdown",
   "metadata": {},
   "source": [
    "Data archive: \n",
    "- 6 random seeds (0--5), patch size limit of 6 cells:\n",
    "      nice -n 19 /home/kubuntu1804/Documents/chaste_build/projects/cartilage/apps/CartilageSheetSimulation --output-dir exp-intercalation/20200331-173524/ --S 0 --sbt --T 80.0 --sw 8 --sd 8 --sh 6 --pu 1 --pl 1 --nb 2 --mu 0.0 --A 0.25 --F pwq --mu_R 80.0 --p 0.1 --u 5.0 --cg "
   ]
  },
  {
   "cell_type": "markdown",
   "metadata": {},
   "source": [
    "## With scaling"
   ]
  },
  {
   "cell_type": "code",
   "execution_count": null,
   "metadata": {},
   "outputs": [],
   "source": [
    "- 6 random seeds (0--5):\n",
    "    "
   ]
  },
  {
   "cell_type": "code",
   "execution_count": 7,
   "metadata": {},
   "outputs": [],
   "source": [
    "output_directory = 'exp-intercalation/' + time.strftime(\"%Y%m%d-%H%M%S\") +'/'\n",
    "flags = ' --sbt' # synchronized birth times\n",
    "flags = flags + ' --T 80.0' # final time 80h\n",
    "flags = flags + ' --sw 8' # 10 cells in x direction\n",
    "flags = flags + ' --sd 8' # 20 cells in y direction\n",
    "flags = flags + ' --sh 6' # 6 cells in z direction\n",
    "flags = flags + ' --pu 1' # 1 layer perichondrial cells above\n",
    "flags = flags + ' --pl 1' # 1 layer perichondrial cells below\n",
    "flags = flags + ' --nb 2' # both an upper and a lower rigid boundary\n",
    "flags = flags + ' --mu 0.0' # adhesive spring stiffness set to 0 -> repulsion only\n",
    "flags = flags + ' --A 0.25' # 25% of stem cells activated\n",
    "flags = flags + ' --F pwq' # PWQ force\n",
    "flags = flags + ' --mu_R 80.0' # set repulsive spring stiffness to 80.0\n",
    "flags = flags + ' --p 0.1' # set perturbation to 0.1\n",
    "flags = flags + ' --psl 4'\n",
    "flags = flags + ' --u 3.5' # set distance between boundaries to 3.5\n",
    "flags = flags + ' --cg ' # use a Cartesian grid for initial placement\n",
    "flags = flags + ' --sc 1.25' # scale initial sheet to generate more space\n",
    "\n",
    "\n",
    "#flags = flags + ' --rdd' #random division directions\n",
    "\n",
    "executable='/home/kubuntu1804/Documents/chaste_build/projects/cartilage/apps/CartilageSheetSimulation'"
   ]
  },
  {
   "cell_type": "code",
   "execution_count": 8,
   "metadata": {},
   "outputs": [
    {
     "name": "stdout",
     "output_type": "stream",
     "text": [
      "nice -n 19 /home/kubuntu1804/Documents/chaste_build/projects/cartilage/apps/CartilageSheetSimulation --output-dir exp-intercalation/20200331-173524/ --S 0 --sbt --T 80.0 --sw 8 --sd 8 --sh 6 --pu 1 --pl 1 --nb 2 --mu 0.0 --A 0.25 --F pwq --mu_R 80.0 --p 0.1 --u 5.0 --cg \n",
      "nice -n 19 /home/kubuntu1804/Documents/chaste_build/projects/cartilage/apps/CartilageSheetSimulation --output-dir exp-intercalation/20200331-173524/ --S 1 --sbt --T 80.0 --sw 8 --sd 8 --sh 6 --pu 1 --pl 1 --nb 2 --mu 0.0 --A 0.25 --F pwq --mu_R 80.0 --p 0.1 --u 5.0 --cg \n",
      "nice -n 19 /home/kubuntu1804/Documents/chaste_build/projects/cartilage/apps/CartilageSheetSimulation --output-dir exp-intercalation/20200331-173524/ --S 2 --sbt --T 80.0 --sw 8 --sd 8 --sh 6 --pu 1 --pl 1 --nb 2 --mu 0.0 --A 0.25 --F pwq --mu_R 80.0 --p 0.1 --u 5.0 --cg \n",
      "nice -n 19 /home/kubuntu1804/Documents/chaste_build/projects/cartilage/apps/CartilageSheetSimulation --output-dir exp-intercalation/20200331-173524/ --S 3 --sbt --T 80.0 --sw 8 --sd 8 --sh 6 --pu 1 --pl 1 --nb 2 --mu 0.0 --A 0.25 --F pwq --mu_R 80.0 --p 0.1 --u 5.0 --cg \n",
      "nice -n 19 /home/kubuntu1804/Documents/chaste_build/projects/cartilage/apps/CartilageSheetSimulation --output-dir exp-intercalation/20200331-173524/ --S 4 --sbt --T 80.0 --sw 8 --sd 8 --sh 6 --pu 1 --pl 1 --nb 2 --mu 0.0 --A 0.25 --F pwq --mu_R 80.0 --p 0.1 --u 5.0 --cg \n",
      "nice -n 19 /home/kubuntu1804/Documents/chaste_build/projects/cartilage/apps/CartilageSheetSimulation --output-dir exp-intercalation/20200331-173524/ --S 5 --sbt --T 80.0 --sw 8 --sd 8 --sh 6 --pu 1 --pl 1 --nb 2 --mu 0.0 --A 0.25 --F pwq --mu_R 80.0 --p 0.1 --u 5.0 --cg \n",
      "Starting simulations with 2 processes\n"
     ]
    }
   ],
   "source": [
    "de.run_simulations_multiple_random_seeds(output_directory, flags=flags, number_of_simulations=6, executable=executable)"
   ]
  },
  {
   "cell_type": "code",
   "execution_count": 9,
   "metadata": {},
   "outputs": [
    {
     "name": "stdout",
     "output_type": "stream",
     "text": [
      "['/home/kubuntu1804/Documents/sf_simulation_results/exp-intercalation/20200331-173524/0/results_from_time_0/', '/home/kubuntu1804/Documents/sf_simulation_results/exp-intercalation/20200331-173524/1/results_from_time_0/', '/home/kubuntu1804/Documents/sf_simulation_results/exp-intercalation/20200331-173524/2/results_from_time_0/', '/home/kubuntu1804/Documents/sf_simulation_results/exp-intercalation/20200331-173524/3/results_from_time_0/', '/home/kubuntu1804/Documents/sf_simulation_results/exp-intercalation/20200331-173524/4/results_from_time_0/', '/home/kubuntu1804/Documents/sf_simulation_results/exp-intercalation/20200331-173524/5/results_from_time_0/', '/home/kubuntu1804/Documents/sf_simulation_results/exp-intercalation/20200331-173524/6/results_from_time_0/', '/home/kubuntu1804/Documents/sf_simulation_results/exp-intercalation/20200331-173524/7/results_from_time_0/', '/home/kubuntu1804/Documents/sf_simulation_results/exp-intercalation/20200331-173524/8/results_from_time_0/', '/home/kubuntu1804/Documents/sf_simulation_results/exp-intercalation/20200331-173524/9/results_from_time_0/']\n",
      "Starting postprocessing with 2 processes\n"
     ]
    },
    {
     "name": "stderr",
     "output_type": "stream",
     "text": [
      "/usr/lib/python3/dist-packages/numpy/core/fromnumeric.py:2909: RuntimeWarning: Mean of empty slice.\n",
      "  out=out, **kwargs)\n",
      "/usr/lib/python3/dist-packages/numpy/core/_methods.py:80: RuntimeWarning: invalid value encountered in double_scalars\n",
      "  ret = ret.dtype.type(ret / rcount)\n",
      "/usr/lib/python3/dist-packages/numpy/core/fromnumeric.py:2909: RuntimeWarning: Mean of empty slice.\n",
      "  out=out, **kwargs)\n",
      "/usr/lib/python3/dist-packages/numpy/core/_methods.py:80: RuntimeWarning: invalid value encountered in double_scalars\n",
      "  ret = ret.dtype.type(ret / rcount)\n"
     ]
    },
    {
     "ename": "FileNotFoundError",
     "evalue": "[Errno 2] No such file or directory: '/home/kubuntu1804/Documents/sf_simulation_results/exp-intercalation/20200331-173524/6/results_from_time_0/results.viznodes'",
     "output_type": "error",
     "traceback": [
      "\u001b[0;31m---------------------------------------------------------------------------\u001b[0m",
      "\u001b[0;31mRemoteTraceback\u001b[0m                           Traceback (most recent call last)",
      "\u001b[0;31mRemoteTraceback\u001b[0m: \n\"\"\"\nTraceback (most recent call last):\n  File \"/usr/lib/python3.6/multiprocessing/pool.py\", line 119, in worker\n    result = (True, func(*args, **kwds))\n  File \"/usr/lib/python3.6/multiprocessing/pool.py\", line 44, in mapstar\n    return list(map(*args))\n  File \"analysis/evaluate_cartilage_sheet.py\", line 22, in main\n    times, coordinates = sm.read_in_data(path);\n  File \"analysis/sheet_metrics.py\", line 19, in read_in_data\n    with open(path_to_dir+'results.viznodes') as f:\nFileNotFoundError: [Errno 2] No such file or directory: '/home/kubuntu1804/Documents/sf_simulation_results/exp-intercalation/20200331-173524/6/results_from_time_0/results.viznodes'\n\"\"\"",
      "\nThe above exception was the direct cause of the following exception:\n",
      "\u001b[0;31mFileNotFoundError\u001b[0m                         Traceback (most recent call last)",
      "\u001b[0;32m<ipython-input-9-8621f7826dc9>\u001b[0m in \u001b[0;36m<module>\u001b[0;34m()\u001b[0m\n\u001b[0;32m----> 1\u001b[0;31m \u001b[0mde\u001b[0m\u001b[0;34m.\u001b[0m\u001b[0mrun_postprocessing_multiple_random_seeds\u001b[0m\u001b[0;34m(\u001b[0m\u001b[0;36m10\u001b[0m\u001b[0;34m,\u001b[0m \u001b[0moutput_directory\u001b[0m\u001b[0;34m)\u001b[0m\u001b[0;34m\u001b[0m\u001b[0;34m\u001b[0m\u001b[0m\n\u001b[0m",
      "\u001b[0;32m/home/kubuntu1804/Documents/cartilage/distribute_executable.py\u001b[0m in \u001b[0;36mrun_postprocessing_multiple_random_seeds\u001b[0;34m(number_of_simulations, output_directory, output_path)\u001b[0m\n\u001b[1;32m    109\u001b[0m \u001b[0;34m\u001b[0m\u001b[0m\n\u001b[1;32m    110\u001b[0m     \u001b[0;31m# Pass the list of bash commands to the pool\u001b[0m\u001b[0;34m\u001b[0m\u001b[0;34m\u001b[0m\u001b[0;34m\u001b[0m\u001b[0m\n\u001b[0;32m--> 111\u001b[0;31m     \u001b[0mpool\u001b[0m\u001b[0;34m.\u001b[0m\u001b[0mmap_async\u001b[0m\u001b[0;34m(\u001b[0m\u001b[0mevaluate_cartilage_sheet\u001b[0m\u001b[0;34m.\u001b[0m\u001b[0mmain\u001b[0m\u001b[0;34m,\u001b[0m \u001b[0mdirectory_list\u001b[0m\u001b[0;34m)\u001b[0m\u001b[0;34m.\u001b[0m\u001b[0mget\u001b[0m\u001b[0;34m(\u001b[0m\u001b[0;36m86400\u001b[0m\u001b[0;34m)\u001b[0m\u001b[0;34m\u001b[0m\u001b[0;34m\u001b[0m\u001b[0m\n\u001b[0m\u001b[1;32m    112\u001b[0m \u001b[0;34m\u001b[0m\u001b[0m\n\u001b[1;32m    113\u001b[0m \u001b[0;32mdef\u001b[0m \u001b[0mrun_postprocessing_list\u001b[0m\u001b[0;34m(\u001b[0m\u001b[0mlist_of_directories\u001b[0m\u001b[0;34m,\u001b[0m \u001b[0mrandom_seed\u001b[0m\u001b[0;34m=\u001b[0m\u001b[0;36m0\u001b[0m\u001b[0;34m,\u001b[0m \u001b[0moutput_path\u001b[0m\u001b[0;34m=\u001b[0m\u001b[0;34m'/home/kubuntu1804/Documents/sf_simulation_results/'\u001b[0m\u001b[0;34m)\u001b[0m\u001b[0;34m:\u001b[0m\u001b[0;34m\u001b[0m\u001b[0;34m\u001b[0m\u001b[0m\n",
      "\u001b[0;32m/usr/lib/python3.6/multiprocessing/pool.py\u001b[0m in \u001b[0;36mget\u001b[0;34m(self, timeout)\u001b[0m\n\u001b[1;32m    668\u001b[0m             \u001b[0;32mreturn\u001b[0m \u001b[0mself\u001b[0m\u001b[0;34m.\u001b[0m\u001b[0m_value\u001b[0m\u001b[0;34m\u001b[0m\u001b[0;34m\u001b[0m\u001b[0m\n\u001b[1;32m    669\u001b[0m         \u001b[0;32melse\u001b[0m\u001b[0;34m:\u001b[0m\u001b[0;34m\u001b[0m\u001b[0;34m\u001b[0m\u001b[0m\n\u001b[0;32m--> 670\u001b[0;31m             \u001b[0;32mraise\u001b[0m \u001b[0mself\u001b[0m\u001b[0;34m.\u001b[0m\u001b[0m_value\u001b[0m\u001b[0;34m\u001b[0m\u001b[0;34m\u001b[0m\u001b[0m\n\u001b[0m\u001b[1;32m    671\u001b[0m \u001b[0;34m\u001b[0m\u001b[0m\n\u001b[1;32m    672\u001b[0m     \u001b[0;32mdef\u001b[0m \u001b[0m_set\u001b[0m\u001b[0;34m(\u001b[0m\u001b[0mself\u001b[0m\u001b[0;34m,\u001b[0m \u001b[0mi\u001b[0m\u001b[0;34m,\u001b[0m \u001b[0mobj\u001b[0m\u001b[0;34m)\u001b[0m\u001b[0;34m:\u001b[0m\u001b[0;34m\u001b[0m\u001b[0;34m\u001b[0m\u001b[0m\n",
      "\u001b[0;31mFileNotFoundError\u001b[0m: [Errno 2] No such file or directory: '/home/kubuntu1804/Documents/sf_simulation_results/exp-intercalation/20200331-173524/6/results_from_time_0/results.viznodes'"
     ]
    }
   ],
   "source": [
    "de.run_postprocessing_multiple_random_seeds(6, output_directory)"
   ]
  },
  {
   "cell_type": "code",
   "execution_count": null,
   "metadata": {},
   "outputs": [],
   "source": []
  }
 ],
 "metadata": {
  "kernelspec": {
   "display_name": "Python 3",
   "language": "python",
   "name": "python3"
  },
  "language_info": {
   "codemirror_mode": {
    "name": "ipython",
    "version": 3
   },
   "file_extension": ".py",
   "mimetype": "text/x-python",
   "name": "python",
   "nbconvert_exporter": "python",
   "pygments_lexer": "ipython3",
   "version": "3.6.7"
  }
 },
 "nbformat": 4,
 "nbformat_minor": 2
}
