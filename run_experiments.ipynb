{
 "cells": [
  {
   "cell_type": "markdown",
   "metadata": {},
   "source": [
    "Run this in a terminal to make sure the shared folder is mounted (only at the beginning when booting up the VM.)\n",
    "\n",
    "    sudo mount -t vboxsf -o uid=$UID,gid=$(id -g) simulation_results ~/Documents/sf_simulation_results/"
   ]
  },
  {
   "cell_type": "markdown",
   "metadata": {},
   "source": [
    "Then compile the Cartilage Sheet Simulation app using make."
   ]
  },
  {
   "cell_type": "code",
   "execution_count": 9,
   "metadata": {},
   "outputs": [
    {
     "name": "stdout",
     "output_type": "stream",
     "text": [
      "[  5%] Built target timekeeper\n",
      "[ 15%] Built target chaste_global\n",
      "[ 15%] Built target chaste_linalg\n",
      "[ 21%] Built target chaste_io\n",
      "[ 26%] Built target chaste_ode\n",
      "[ 42%] Built target chaste_mesh\n",
      "[ 47%] Built target chaste_pde\n",
      "[ 94%] Built target chaste_cell_based\n",
      "Scanning dependencies of target chaste_project_cartilage\n",
      "[ 94%] Building CXX object projects/cartilage/CMakeFiles/chaste_project_cartilage.dir/src/NodeBasedCartilageSheet.cpp.o\n",
      "[ 94%] Building CXX object projects/cartilage/CMakeFiles/chaste_project_cartilage.dir/src/cell/cycle/CellTissueTypeBasedCellCycleModel.cpp.o\n",
      "[ 94%] Linking CXX shared library libchaste_project_cartilage.so\n",
      "[100%] Built target chaste_project_cartilage\n",
      "Scanning dependencies of target CartilageSheetSimulation\n",
      "[100%] Building CXX object projects/cartilage/apps/CMakeFiles/CartilageSheetSimulation.dir/src/CartilageSheetSimulation.cpp.o\n",
      "[100%] Linking CXX executable CartilageSheetSimulation\n",
      "[100%] Built target CartilageSheetSimulation\n"
     ]
    }
   ],
   "source": [
    "%%bash\n",
    "cd ../chaste_build/\n",
    "make CartilageSheetSimulation"
   ]
  },
  {
   "cell_type": "markdown",
   "metadata": {},
   "source": [
    "Now run the simulation using (set the flags to correspond to your experimental setup)"
   ]
  },
  {
   "cell_type": "code",
   "execution_count": 10,
   "metadata": {},
   "outputs": [],
   "source": [
    "import distribute_executable as de"
   ]
  },
  {
   "cell_type": "code",
   "execution_count": 11,
   "metadata": {},
   "outputs": [
    {
     "name": "stdout",
     "output_type": "stream",
     "text": [
      "nice -n 19 /home/kubuntu1804/Documents/chaste_build/projects/cartilage/apps/CartilageSheetSimulation --output-dir dev/ --S 0 --sbt --T 45.0 --F GLS_repulsion_only\n",
      "nice -n 19 /home/kubuntu1804/Documents/chaste_build/projects/cartilage/apps/CartilageSheetSimulation --output-dir dev/ --S 1 --sbt --T 45.0 --F GLS_repulsion_only\n",
      "nice -n 19 /home/kubuntu1804/Documents/chaste_build/projects/cartilage/apps/CartilageSheetSimulation --output-dir dev/ --S 2 --sbt --T 45.0 --F GLS_repulsion_only\n",
      "Starting simulations with 2 processes\n"
     ]
    }
   ],
   "source": [
    "output_directory = 'dev/'\n",
    "flags = ' --sbt --T 45.0 --F GLS_repulsion_only' # turn synchronized birth times on and set the final time to 45h\n",
    "de.run_simulations_multiple_random_seeds(output_directory, flags=flags)"
   ]
  },
  {
   "cell_type": "code",
   "execution_count": 4,
   "metadata": {},
   "outputs": [
    {
     "name": "stdout",
     "output_type": "stream",
     "text": [
      "nice -n 19 /home/kubuntu1804/Documents/chaste_build/projects/cartilage/apps/CartilageSheetSimulation --S 0 --output-dir dev-setup_experiments/ --sbt --T 45.0 --sw 1\n",
      "nice -n 19 /home/kubuntu1804/Documents/chaste_build/projects/cartilage/apps/CartilageSheetSimulation --S 0 --output-dir dev-setup_experiments/ --sbt --T 45.0 --sd 3\n",
      "Starting simulations with 2 processes\n"
     ]
    }
   ],
   "source": [
    "list_of_flags = [' --output-dir '+ output_directory + flags + ' --sw 1', ' --output-dir '+ output_directory + flags + ' --sd 3']\n",
    "de.run_simulations_list(list_of_flags=list_of_flags)"
   ]
  },
  {
   "cell_type": "markdown",
   "metadata": {},
   "source": [
    "Note that the output from the bash subprocesses gets printed in the shell running the jupyter notebook server - check there for error messages!"
   ]
  },
  {
   "cell_type": "markdown",
   "metadata": {},
   "source": [
    "Then run postprocessing. Note that the post processing currently assumes a simulation run time until at least T=45.0. And if there's no upper boundary it will encounter All-NaN slices and print out warnings."
   ]
  },
  {
   "cell_type": "code",
   "execution_count": 5,
   "metadata": {},
   "outputs": [
    {
     "name": "stdout",
     "output_type": "stream",
     "text": [
      "['/home/kubuntu1804/Documents/sf_simulation_results/dev-setup_experiments/0/results_from_time_0/', '/home/kubuntu1804/Documents/sf_simulation_results/dev-setup_experiments/0/results_from_time_0/']\n",
      "Starting postprocessing with 2 processes\n"
     ]
    },
    {
     "ename": "ValueError",
     "evalue": "cannot reshape array of size 9010 into shape (902,15)",
     "output_type": "error",
     "traceback": [
      "\u001b[0;31m---------------------------------------------------------------------------\u001b[0m",
      "\u001b[0;31mRemoteTraceback\u001b[0m                           Traceback (most recent call last)",
      "\u001b[0;31mRemoteTraceback\u001b[0m: \n\"\"\"\nTraceback (most recent call last):\n  File \"/usr/lib/python3.6/multiprocessing/pool.py\", line 119, in worker\n    result = (True, func(*args, **kwds))\n  File \"/usr/lib/python3.6/multiprocessing/pool.py\", line 44, in mapstar\n    return list(map(*args))\n  File \"analysis/evaluate_cartilage_sheet.py\", line 87, in main\n    bs = sm.calculate_boundary_quality(boundary_coordinates)\n  File \"analysis/sheet_metrics.py\", line 108, in calculate_boundary_quality\n    z_values_boundary = np.reshape(z_values[~np.isnan(z_values)], (n_times, n_cells_boundary))\n  File \"/usr/lib/python3/dist-packages/numpy/core/fromnumeric.py\", line 232, in reshape\n    return _wrapfunc(a, 'reshape', newshape, order=order)\n  File \"/usr/lib/python3/dist-packages/numpy/core/fromnumeric.py\", line 57, in _wrapfunc\n    return getattr(obj, method)(*args, **kwds)\nValueError: cannot reshape array of size 9010 into shape (902,15)\n\"\"\"",
      "\nThe above exception was the direct cause of the following exception:\n",
      "\u001b[0;31mValueError\u001b[0m                                Traceback (most recent call last)",
      "\u001b[0;32m<ipython-input-5-e600c8295658>\u001b[0m in \u001b[0;36m<module>\u001b[0;34m()\u001b[0m\n\u001b[1;32m      1\u001b[0m \u001b[0mlist_of_directories\u001b[0m \u001b[0;34m=\u001b[0m \u001b[0;34m[\u001b[0m\u001b[0moutput_directory\u001b[0m\u001b[0;34m,\u001b[0m \u001b[0moutput_directory\u001b[0m\u001b[0;34m]\u001b[0m\u001b[0;34m\u001b[0m\u001b[0;34m\u001b[0m\u001b[0m\n\u001b[0;32m----> 2\u001b[0;31m \u001b[0mde\u001b[0m\u001b[0;34m.\u001b[0m\u001b[0mrun_postprocessing_list\u001b[0m\u001b[0;34m(\u001b[0m\u001b[0mlist_of_directories\u001b[0m\u001b[0;34m)\u001b[0m\u001b[0;34m\u001b[0m\u001b[0;34m\u001b[0m\u001b[0m\n\u001b[0m",
      "\u001b[0;32m/home/kubuntu1804/Documents/cartilage/distribute_executable.py\u001b[0m in \u001b[0;36mrun_postprocessing_list\u001b[0;34m(list_of_directories, random_seed, output_path)\u001b[0m\n\u001b[1;32m    129\u001b[0m \u001b[0;34m\u001b[0m\u001b[0m\n\u001b[1;32m    130\u001b[0m     \u001b[0;31m# Pass the list of bash commands to the pool\u001b[0m\u001b[0;34m\u001b[0m\u001b[0;34m\u001b[0m\u001b[0;34m\u001b[0m\u001b[0m\n\u001b[0;32m--> 131\u001b[0;31m     \u001b[0mpool\u001b[0m\u001b[0;34m.\u001b[0m\u001b[0mmap_async\u001b[0m\u001b[0;34m(\u001b[0m\u001b[0mevaluate_cartilage_sheet\u001b[0m\u001b[0;34m.\u001b[0m\u001b[0mmain\u001b[0m\u001b[0;34m,\u001b[0m \u001b[0mdirectory_list\u001b[0m\u001b[0;34m)\u001b[0m\u001b[0;34m.\u001b[0m\u001b[0mget\u001b[0m\u001b[0;34m(\u001b[0m\u001b[0;36m86400\u001b[0m\u001b[0;34m)\u001b[0m\u001b[0;34m\u001b[0m\u001b[0;34m\u001b[0m\u001b[0m\n\u001b[0m\u001b[1;32m    132\u001b[0m \u001b[0;34m\u001b[0m\u001b[0m\n\u001b[1;32m    133\u001b[0m \u001b[0;34m\u001b[0m\u001b[0m\n",
      "\u001b[0;32m/usr/lib/python3.6/multiprocessing/pool.py\u001b[0m in \u001b[0;36mget\u001b[0;34m(self, timeout)\u001b[0m\n\u001b[1;32m    668\u001b[0m             \u001b[0;32mreturn\u001b[0m \u001b[0mself\u001b[0m\u001b[0;34m.\u001b[0m\u001b[0m_value\u001b[0m\u001b[0;34m\u001b[0m\u001b[0;34m\u001b[0m\u001b[0m\n\u001b[1;32m    669\u001b[0m         \u001b[0;32melse\u001b[0m\u001b[0;34m:\u001b[0m\u001b[0;34m\u001b[0m\u001b[0;34m\u001b[0m\u001b[0m\n\u001b[0;32m--> 670\u001b[0;31m             \u001b[0;32mraise\u001b[0m \u001b[0mself\u001b[0m\u001b[0;34m.\u001b[0m\u001b[0m_value\u001b[0m\u001b[0;34m\u001b[0m\u001b[0;34m\u001b[0m\u001b[0m\n\u001b[0m\u001b[1;32m    671\u001b[0m \u001b[0;34m\u001b[0m\u001b[0m\n\u001b[1;32m    672\u001b[0m     \u001b[0;32mdef\u001b[0m \u001b[0m_set\u001b[0m\u001b[0;34m(\u001b[0m\u001b[0mself\u001b[0m\u001b[0;34m,\u001b[0m \u001b[0mi\u001b[0m\u001b[0;34m,\u001b[0m \u001b[0mobj\u001b[0m\u001b[0;34m)\u001b[0m\u001b[0;34m:\u001b[0m\u001b[0;34m\u001b[0m\u001b[0;34m\u001b[0m\u001b[0m\n",
      "\u001b[0;31mValueError\u001b[0m: cannot reshape array of size 9010 into shape (902,15)"
     ]
    }
   ],
   "source": [
    "list_of_directories = [output_directory, output_directory]\n",
    "de.run_postprocessing_list(list_of_directories)"
   ]
  },
  {
   "cell_type": "markdown",
   "metadata": {},
   "source": [
    "You can generate a png visualizing clonal patches using"
   ]
  },
  {
   "cell_type": "code",
   "execution_count": 7,
   "metadata": {},
   "outputs": [
    {
     "name": "stdout",
     "output_type": "stream",
     "text": [
      "Input file path is /home/kubuntu1804/Documents/sf_simulation_results/dev-setup_experiments/0/\n"
     ]
    },
    {
     "name": "stderr",
     "output_type": "stream",
     "text": [
      "Generic Warning: In /build/paraview-lH8wFv/paraview-5.4.1+dfsg3/VTK/Rendering/Volume/vtkVolumeTextureMapper3D.cxx, line 680\n",
      "vtkVolumeTextureMapper3D::vtkVolumeTextureMapper3D was deprecated for VTK 7.0 and will be removed in a future version.\n",
      "\n",
      "Generic Warning: In /build/paraview-lH8wFv/paraview-5.4.1+dfsg3/VTK/Rendering/VolumeOpenGL/vtkOpenGLVolumeTextureMapper3D.cxx, line 57\n",
      "vtkOpenGLVolumeTextureMapper3D::vtkOpenGLVolumeTextureMapper3D was deprecated for VTK 7.0 and will be removed in a future version.\n",
      "\n",
      "Generic Warning: In /build/paraview-lH8wFv/paraview-5.4.1+dfsg3/VTK/Rendering/Volume/vtkVolumeTextureMapper3D.cxx, line 680\n",
      "vtkVolumeTextureMapper3D::vtkVolumeTextureMapper3D was deprecated for VTK 7.0 and will be removed in a future version.\n",
      "\n",
      "Generic Warning: In /build/paraview-lH8wFv/paraview-5.4.1+dfsg3/VTK/Rendering/VolumeOpenGL/vtkOpenGLVolumeTextureMapper3D.cxx, line 57\n",
      "vtkOpenGLVolumeTextureMapper3D::vtkOpenGLVolumeTextureMapper3D was deprecated for VTK 7.0 and will be removed in a future version.\n",
      "\n"
     ]
    }
   ],
   "source": [
    "%%bash\n",
    "pvpython analysis/paraview_show_clonal_patches.py -i /home/kubuntu1804/Documents/sf_simulation_results/dev-setup_experiments/0/"
   ]
  },
  {
   "cell_type": "markdown",
   "metadata": {},
   "source": [
    "And render the png using"
   ]
  },
  {
   "cell_type": "code",
   "execution_count": 14,
   "metadata": {},
   "outputs": [],
   "source": [
    "import matplotlib.pyplot as plt\n",
    "import matplotlib.image as mpimg"
   ]
  },
  {
   "cell_type": "code",
   "execution_count": 15,
   "metadata": {},
   "outputs": [
    {
     "data": {
      "text/plain": [
       "<matplotlib.image.AxesImage at 0x7fbab5d44208>"
      ]
     },
     "execution_count": 15,
     "metadata": {},
     "output_type": "execute_result"
    },
    {
     "data": {
      "image/png": "[encoded data removed]",
      "text/plain": [
       "<matplotlib.figure.Figure at 0x7fbab5d89630>"
      ]
     },
     "metadata": {},
     "output_type": "display_data"
    }
   ],
   "source": [
    "image = mpimg.imread(\"/home/kubuntu1804/Documents/sf_simulation_results/dev-setup_experiments/0/patches_t40.png\")\n",
    "plt.imshow(image)"
   ]
  },
  {
   "cell_type": "code",
   "execution_count": null,
   "metadata": {},
   "outputs": [],
   "source": []
  }
 ],
 "metadata": {
  "kernelspec": {
   "display_name": "Python 3",
   "language": "python",
   "name": "python3"
  },
  "language_info": {
   "codemirror_mode": {
    "name": "ipython",
    "version": 3
   },
   "file_extension": ".py",
   "mimetype": "text/x-python",
   "name": "python",
   "nbconvert_exporter": "python",
   "pygments_lexer": "ipython3",
   "version": "3.6.7"
  }
 },
 "nbformat": 4,
 "nbformat_minor": 2
}
