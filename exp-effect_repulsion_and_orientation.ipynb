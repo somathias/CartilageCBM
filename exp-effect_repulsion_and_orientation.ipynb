{
 "cells": [
  {
   "cell_type": "markdown",
   "metadata": {},
   "source": [
    "Run this in a terminal to make sure the shared folder is mounted (only at the beginning when booting up the VM.)\n",
    "\n",
    "    sudo mount -t vboxsf -o uid=$UID,gid=$(id -g) simulation_results ~/Documents/sf_simulation_results/"
   ]
  },
  {
   "cell_type": "markdown",
   "metadata": {},
   "source": [
    "Then compile the Cartilage Sheet Simulation app using make."
   ]
  },
  {
   "cell_type": "code",
   "execution_count": 1,
   "metadata": {},
   "outputs": [
    {
     "name": "stdout",
     "output_type": "stream",
     "text": [
      "[  5%] Built target timekeeper\n",
      "[ 15%] Built target chaste_global\n",
      "[ 15%] Built target chaste_linalg\n",
      "[ 21%] Built target chaste_io\n",
      "[ 26%] Built target chaste_ode\n",
      "[ 42%] Built target chaste_mesh\n",
      "[ 47%] Built target chaste_pde\n",
      "[ 94%] Built target chaste_cell_based\n",
      "[100%] Built target chaste_project_cartilage\n",
      "Scanning dependencies of target CartilageSheetSimulation\n",
      "[100%] Building CXX object projects/cartilage/apps/CMakeFiles/CartilageSheetSimulation.dir/src/CartilageSheetSimulation.cpp.o\n",
      "[100%] Linking CXX executable CartilageSheetSimulation\n",
      "[100%] Built target CartilageSheetSimulation\n"
     ]
    }
   ],
   "source": [
    "%%bash\n",
    "cd ../chaste_build/\n",
    "make CartilageSheetSimulation"
   ]
  },
  {
   "cell_type": "markdown",
   "metadata": {},
   "source": [
    "Now run the simulation using (set the flags to correspond to your experimental setup)"
   ]
  },
  {
   "cell_type": "code",
   "execution_count": 1,
   "metadata": {},
   "outputs": [],
   "source": [
    "import sys\n",
    "sys.path.append('analysis')\n",
    "\n",
    "import numpy as np\n",
    "import time \n",
    "import matplotlib.pyplot as plt\n",
    "import distribute_executable as de\n",
    "import sheet_metrics as sm\n",
    "\n",
    "plt.style.use('seaborn-whitegrid')\n",
    "#plt.style.use('tableau-colorblind10')\n",
    "params = {'legend.fontsize': 'xx-large',\n",
    "          'figure.figsize': (6.75, 5),\n",
    "          'lines.linewidth': 3.0,\n",
    "         'axes.labelsize': 'xx-large',\n",
    "         'axes.titlesize':'xx-large',\n",
    "         'xtick.labelsize':'xx-large',\n",
    "         'ytick.labelsize':'xx-large',\n",
    "         'font.size': 12}\n",
    "plt.rcParams.update(params)"
   ]
  },
  {
   "cell_type": "markdown",
   "metadata": {},
   "source": [
    "# Runs with perturbation of 0.1"
   ]
  },
  {
   "cell_type": "code",
   "execution_count": 2,
   "metadata": {},
   "outputs": [],
   "source": [
    "output_directory = 'exp-effect_repulsion_and_orientation/' + time.strftime(\"%Y%m%d-%H%M%S\") +'/'\n",
    "flags = ' --sbt' # synchronized birth times\n",
    "flags = flags + ' --T 45.0' # final time 45h\n",
    "flags = flags + ' --sw 10' # 10 cells in x direction\n",
    "flags = flags + ' --sd 20' # 20 cells in y direction\n",
    "flags = flags + ' --sh 1' # 1 cell in z direction\n",
    "flags = flags + ' --mu 0.0' # adhesive spring stiffness set to 0 -> repulsion only\n",
    "flags = flags + ' --A 0.5' # 50% of stem cells activated\n",
    "flags = flags + ' --F pwq' # PWQ force\n",
    "flags = flags + ' --mu_R 12.0' # set repulsive spring stiffness to 12.0\n",
    "flags = flags + ' --p 0.1' # set repulsive spring stiffness to 12.0\n",
    "\n",
    "\n"
   ]
  },
  {
   "cell_type": "code",
   "execution_count": 3,
   "metadata": {},
   "outputs": [
    {
     "name": "stdout",
     "output_type": "stream",
     "text": [
      "nice -n 19 /home/kubuntu1804/Documents/chaste_build/projects/cartilage/apps/CartilageSheetSimulation --output-dir exp-effect_repulsion_and_orientation/20200226-155233/ --S 0 --sbt --T 45.0 --sw 10 --sd 20 --sh 1 --mu 0.0 --A 0.5 --F pwq --mu_R 12.0 --p 0.1\n",
      "nice -n 19 /home/kubuntu1804/Documents/chaste_build/projects/cartilage/apps/CartilageSheetSimulation --output-dir exp-effect_repulsion_and_orientation/20200226-155233/ --S 1 --sbt --T 45.0 --sw 10 --sd 20 --sh 1 --mu 0.0 --A 0.5 --F pwq --mu_R 12.0 --p 0.1\n",
      "nice -n 19 /home/kubuntu1804/Documents/chaste_build/projects/cartilage/apps/CartilageSheetSimulation --output-dir exp-effect_repulsion_and_orientation/20200226-155233/ --S 2 --sbt --T 45.0 --sw 10 --sd 20 --sh 1 --mu 0.0 --A 0.5 --F pwq --mu_R 12.0 --p 0.1\n",
      "nice -n 19 /home/kubuntu1804/Documents/chaste_build/projects/cartilage/apps/CartilageSheetSimulation --output-dir exp-effect_repulsion_and_orientation/20200226-155233/ --S 3 --sbt --T 45.0 --sw 10 --sd 20 --sh 1 --mu 0.0 --A 0.5 --F pwq --mu_R 12.0 --p 0.1\n",
      "nice -n 19 /home/kubuntu1804/Documents/chaste_build/projects/cartilage/apps/CartilageSheetSimulation --output-dir exp-effect_repulsion_and_orientation/20200226-155233/ --S 4 --sbt --T 45.0 --sw 10 --sd 20 --sh 1 --mu 0.0 --A 0.5 --F pwq --mu_R 12.0 --p 0.1\n",
      "nice -n 19 /home/kubuntu1804/Documents/chaste_build/projects/cartilage/apps/CartilageSheetSimulation --output-dir exp-effect_repulsion_and_orientation/20200226-155233/ --S 5 --sbt --T 45.0 --sw 10 --sd 20 --sh 1 --mu 0.0 --A 0.5 --F pwq --mu_R 12.0 --p 0.1\n",
      "nice -n 19 /home/kubuntu1804/Documents/chaste_build/projects/cartilage/apps/CartilageSheetSimulation --output-dir exp-effect_repulsion_and_orientation/20200226-155233/ --S 6 --sbt --T 45.0 --sw 10 --sd 20 --sh 1 --mu 0.0 --A 0.5 --F pwq --mu_R 12.0 --p 0.1\n",
      "nice -n 19 /home/kubuntu1804/Documents/chaste_build/projects/cartilage/apps/CartilageSheetSimulation --output-dir exp-effect_repulsion_and_orientation/20200226-155233/ --S 7 --sbt --T 45.0 --sw 10 --sd 20 --sh 1 --mu 0.0 --A 0.5 --F pwq --mu_R 12.0 --p 0.1\n",
      "nice -n 19 /home/kubuntu1804/Documents/chaste_build/projects/cartilage/apps/CartilageSheetSimulation --output-dir exp-effect_repulsion_and_orientation/20200226-155233/ --S 8 --sbt --T 45.0 --sw 10 --sd 20 --sh 1 --mu 0.0 --A 0.5 --F pwq --mu_R 12.0 --p 0.1\n",
      "nice -n 19 /home/kubuntu1804/Documents/chaste_build/projects/cartilage/apps/CartilageSheetSimulation --output-dir exp-effect_repulsion_and_orientation/20200226-155233/ --S 9 --sbt --T 45.0 --sw 10 --sd 20 --sh 1 --mu 0.0 --A 0.5 --F pwq --mu_R 12.0 --p 0.1\n",
      "Starting simulations with 2 processes\n"
     ]
    }
   ],
   "source": [
    "de.run_simulations_multiple_random_seeds(output_directory, flags=flags, number_of_simulations=10)"
   ]
  },
  {
   "cell_type": "markdown",
   "metadata": {},
   "source": [
    "Note that the output from the bash subprocesses gets printed in the shell running the jupyter notebook server - check there for error messages!"
   ]
  },
  {
   "cell_type": "markdown",
   "metadata": {},
   "source": [
    "Then run postprocessing. Note that the post processing currently assumes a simulation run time until at least T=45.0. And if there's no upper boundary it will encounter All-NaN slices and print out warnings."
   ]
  },
  {
   "cell_type": "code",
   "execution_count": 4,
   "metadata": {
    "collapsed": true
   },
   "outputs": [
    {
     "name": "stdout",
     "output_type": "stream",
     "text": [
      "['/home/kubuntu1804/Documents/sf_simulation_results/exp-effect_repulsion_and_orientation/20200226-155233/0/results_from_time_0/', '/home/kubuntu1804/Documents/sf_simulation_results/exp-effect_repulsion_and_orientation/20200226-155233/1/results_from_time_0/', '/home/kubuntu1804/Documents/sf_simulation_results/exp-effect_repulsion_and_orientation/20200226-155233/2/results_from_time_0/', '/home/kubuntu1804/Documents/sf_simulation_results/exp-effect_repulsion_and_orientation/20200226-155233/3/results_from_time_0/', '/home/kubuntu1804/Documents/sf_simulation_results/exp-effect_repulsion_and_orientation/20200226-155233/4/results_from_time_0/', '/home/kubuntu1804/Documents/sf_simulation_results/exp-effect_repulsion_and_orientation/20200226-155233/5/results_from_time_0/', '/home/kubuntu1804/Documents/sf_simulation_results/exp-effect_repulsion_and_orientation/20200226-155233/6/results_from_time_0/', '/home/kubuntu1804/Documents/sf_simulation_results/exp-effect_repulsion_and_orientation/20200226-155233/7/results_from_time_0/', '/home/kubuntu1804/Documents/sf_simulation_results/exp-effect_repulsion_and_orientation/20200226-155233/8/results_from_time_0/', '/home/kubuntu1804/Documents/sf_simulation_results/exp-effect_repulsion_and_orientation/20200226-155233/9/results_from_time_0/']\n",
      "Starting postprocessing with 2 processes\n"
     ]
    },
    {
     "name": "stderr",
     "output_type": "stream",
     "text": [
      "analysis/sheet_metrics.py:92: RuntimeWarning: All-NaN slice encountered\n",
      "  width[:, 0] = abs(np.nanmax(coordinates[:,0::3], axis=1)- np.nanmin(coordinates[:,0::3], axis=1))\n",
      "analysis/sheet_metrics.py:92: RuntimeWarning: All-NaN axis encountered\n",
      "  width[:, 0] = abs(np.nanmax(coordinates[:,0::3], axis=1)- np.nanmin(coordinates[:,0::3], axis=1))\n",
      "analysis/sheet_metrics.py:93: RuntimeWarning: All-NaN slice encountered\n",
      "  width[:, 1] = abs(np.nanmax(coordinates[:,1::3], axis=1)- np.nanmin(coordinates[:,1::3], axis=1))\n",
      "analysis/sheet_metrics.py:93: RuntimeWarning: All-NaN axis encountered\n",
      "  width[:, 1] = abs(np.nanmax(coordinates[:,1::3], axis=1)- np.nanmin(coordinates[:,1::3], axis=1))\n",
      "analysis/sheet_metrics.py:94: RuntimeWarning: All-NaN slice encountered\n",
      "  width[:, 2] = abs(np.nanmax(coordinates[:,2::3], axis=1)- np.nanmin(coordinates[:,2::3], axis=1))\n",
      "analysis/sheet_metrics.py:94: RuntimeWarning: All-NaN axis encountered\n",
      "  width[:, 2] = abs(np.nanmax(coordinates[:,2::3], axis=1)- np.nanmin(coordinates[:,2::3], axis=1))\n",
      "analysis/sheet_metrics.py:92: RuntimeWarning: All-NaN slice encountered\n",
      "  width[:, 0] = abs(np.nanmax(coordinates[:,0::3], axis=1)- np.nanmin(coordinates[:,0::3], axis=1))\n",
      "analysis/sheet_metrics.py:92: RuntimeWarning: All-NaN axis encountered\n",
      "  width[:, 0] = abs(np.nanmax(coordinates[:,0::3], axis=1)- np.nanmin(coordinates[:,0::3], axis=1))\n",
      "analysis/sheet_metrics.py:93: RuntimeWarning: All-NaN slice encountered\n",
      "  width[:, 1] = abs(np.nanmax(coordinates[:,1::3], axis=1)- np.nanmin(coordinates[:,1::3], axis=1))\n",
      "analysis/sheet_metrics.py:93: RuntimeWarning: All-NaN axis encountered\n",
      "  width[:, 1] = abs(np.nanmax(coordinates[:,1::3], axis=1)- np.nanmin(coordinates[:,1::3], axis=1))\n",
      "analysis/sheet_metrics.py:94: RuntimeWarning: All-NaN slice encountered\n",
      "  width[:, 2] = abs(np.nanmax(coordinates[:,2::3], axis=1)- np.nanmin(coordinates[:,2::3], axis=1))\n",
      "analysis/sheet_metrics.py:94: RuntimeWarning: All-NaN axis encountered\n",
      "  width[:, 2] = abs(np.nanmax(coordinates[:,2::3], axis=1)- np.nanmin(coordinates[:,2::3], axis=1))\n",
      "/usr/lib/python3/dist-packages/numpy/core/_methods.py:135: RuntimeWarning: Degrees of freedom <= 0 for slice\n",
      "  keepdims=keepdims)\n",
      "/usr/lib/python3/dist-packages/numpy/core/_methods.py:105: RuntimeWarning: invalid value encountered in true_divide\n",
      "  arrmean, rcount, out=arrmean, casting='unsafe', subok=False)\n",
      "/usr/lib/python3/dist-packages/numpy/core/_methods.py:125: RuntimeWarning: invalid value encountered in true_divide\n",
      "  ret, rcount, out=ret, casting='unsafe', subok=False)\n",
      "/usr/lib/python3/dist-packages/numpy/core/_methods.py:135: RuntimeWarning: Degrees of freedom <= 0 for slice\n",
      "  keepdims=keepdims)\n",
      "/usr/lib/python3/dist-packages/numpy/core/_methods.py:105: RuntimeWarning: invalid value encountered in true_divide\n",
      "  arrmean, rcount, out=arrmean, casting='unsafe', subok=False)\n",
      "/usr/lib/python3/dist-packages/numpy/core/_methods.py:125: RuntimeWarning: invalid value encountered in true_divide\n",
      "  ret, rcount, out=ret, casting='unsafe', subok=False)\n",
      "/usr/lib/python3/dist-packages/numpy/core/fromnumeric.py:2909: RuntimeWarning: Mean of empty slice.\n",
      "  out=out, **kwargs)\n",
      "/usr/lib/python3/dist-packages/numpy/core/_methods.py:80: RuntimeWarning: invalid value encountered in double_scalars\n",
      "  ret = ret.dtype.type(ret / rcount)\n",
      "/usr/lib/python3/dist-packages/numpy/core/fromnumeric.py:2909: RuntimeWarning: Mean of empty slice.\n",
      "  out=out, **kwargs)\n",
      "/usr/lib/python3/dist-packages/numpy/core/_methods.py:80: RuntimeWarning: invalid value encountered in double_scalars\n",
      "  ret = ret.dtype.type(ret / rcount)\n"
     ]
    }
   ],
   "source": [
    "de.run_postprocessing_multiple_random_seeds(10, output_directory)"
   ]
  },
  {
   "cell_type": "code",
   "execution_count": 5,
   "metadata": {},
   "outputs": [],
   "source": [
    "# time steps are consistent across runs, so it's sufficient to load them from a single path\n",
    "times, coords = sm.read_in_data('/home/kubuntu1804/Documents/sf_simulation_results/'+output_directory + '0/results_from_time_0/') \n",
    "\n",
    "ppa_av = np.zeros(times.shape)\n",
    "for seed in range(10):\n",
    "    ppa_av = ppa_av + np.loadtxt('/home/kubuntu1804/Documents/sf_simulation_results/'+output_directory+str(seed)+'/results_from_time_0/metrics_results/data_patch_projection_area_av.txt', dtype=float)\n",
    "ppa_av = ppa_av /10"
   ]
  },
  {
   "cell_type": "code",
   "execution_count": 6,
   "metadata": {
    "scrolled": true
   },
   "outputs": [
    {
     "data": {
      "text/plain": [
       "[<matplotlib.lines.Line2D at 0x7f5cae185da0>]"
      ]
     },
     "execution_count": 6,
     "metadata": {},
     "output_type": "execute_result"
    },
    {
     "data": {
      "image/png": "[encoded data removed]",
      "text/plain": [
       "<matplotlib.figure.Figure at 0x7f5cb55c49b0>"
      ]
     },
     "metadata": {},
     "output_type": "display_data"
    }
   ],
   "source": [
    "plt.plot(times, ppa_av)"
   ]
  },
  {
   "cell_type": "markdown",
   "metadata": {},
   "source": [
    "I'm confused. The average patch projection area seems very sensitive to the initial perturbation of the coordinates of the perichondrial cells. Which value did I choose??? I chose 0.1 (I checked)."
   ]
  },
  {
   "cell_type": "markdown",
   "metadata": {},
   "source": [
    "# Runs without perturbation of the initial coordinates"
   ]
  },
  {
   "cell_type": "code",
   "execution_count": 9,
   "metadata": {},
   "outputs": [
    {
     "data": {
      "text/plain": [
       "[<matplotlib.lines.Line2D at 0x7f5caf1bf898>]"
      ]
     },
     "execution_count": 9,
     "metadata": {},
     "output_type": "execute_result"
    },
    {
     "data": {
      "image/png": "[encoded data removed]",
      "text/plain": [
       "<matplotlib.figure.Figure at 0x7f5cae555390>"
      ]
     },
     "metadata": {},
     "output_type": "display_data"
    }
   ],
   "source": [
    "dir_no_perturbation = 'exp-effect_repulsion_and_orientation/20200226-150623'\n",
    "# time steps are consistent across runs, so it's sufficient to load them from a single path\n",
    "times, coords = sm.read_in_data('/home/kubuntu1804/Documents/sf_simulation_results/'+dir_no_perturbation + '0/results_from_time_0/') \n",
    "\n",
    "ppa_av = np.zeros(times.shape)\n",
    "for seed in range(10):\n",
    "    ppa_av = ppa_av + np.loadtxt('/home/kubuntu1804/Documents/sf_simulation_results/'+dir_no_perturbation + str(seed)+'/results_from_time_0/metrics_results/data_patch_projection_area_av.txt', dtype=float)\n",
    "ppa_av = ppa_av /10\n",
    "plt.plot(times, ppa_av)"
   ]
  },
  {
   "cell_type": "markdown",
   "metadata": {},
   "source": [
    "# Now let us run the random cell division direction case - no perturbation first"
   ]
  },
  {
   "cell_type": "markdown",
   "metadata": {},
   "source": [
    "I also think we could maybe use a lower activation percentage, but let's leave it consistent for now. (Simulations would be faster!)"
   ]
  },
  {
   "cell_type": "code",
   "execution_count": 10,
   "metadata": {},
   "outputs": [],
   "source": [
    "output_directory = 'exp-effect_repulsion_and_orientation/' + time.strftime(\"%Y%m%d-%H%M%S\") +'/'\n",
    "flags = ' --sbt' # synchronized birth times\n",
    "flags = flags + ' --T 45.0' # final time 45h\n",
    "flags = flags + ' --sw 10' # 10 cells in x direction\n",
    "flags = flags + ' --sd 20' # 20 cells in y direction\n",
    "flags = flags + ' --sh 1' # 1 cell in z direction\n",
    "flags = flags + ' --mu 0.0' # adhesive spring stiffness set to 0 -> repulsion only\n",
    "flags = flags + ' --A 0.5' # 50% of stem cells activated\n",
    "flags = flags + ' --F pwq' # PWQ force\n",
    "flags = flags + ' --mu_R 12.0' # set repulsive spring stiffness to 12.0\n",
    "#flags = flags + ' --p 0.1' # set maximum perturbation of coordinates to 0.1\n",
    "flags = flags + ' --rdd' # set random division directions\n"
   ]
  },
  {
   "cell_type": "code",
   "execution_count": 11,
   "metadata": {},
   "outputs": [
    {
     "name": "stdout",
     "output_type": "stream",
     "text": [
      "nice -n 19 /home/kubuntu1804/Documents/chaste_build/projects/cartilage/apps/CartilageSheetSimulation --output-dir exp-effect_repulsion_and_orientation/20200226-161335/ --S 0 --sbt --T 45.0 --sw 10 --sd 20 --sh 1 --mu 0.0 --A 0.5 --F pwq --mu_R 12.0 --rdd\n",
      "nice -n 19 /home/kubuntu1804/Documents/chaste_build/projects/cartilage/apps/CartilageSheetSimulation --output-dir exp-effect_repulsion_and_orientation/20200226-161335/ --S 1 --sbt --T 45.0 --sw 10 --sd 20 --sh 1 --mu 0.0 --A 0.5 --F pwq --mu_R 12.0 --rdd\n",
      "nice -n 19 /home/kubuntu1804/Documents/chaste_build/projects/cartilage/apps/CartilageSheetSimulation --output-dir exp-effect_repulsion_and_orientation/20200226-161335/ --S 2 --sbt --T 45.0 --sw 10 --sd 20 --sh 1 --mu 0.0 --A 0.5 --F pwq --mu_R 12.0 --rdd\n",
      "nice -n 19 /home/kubuntu1804/Documents/chaste_build/projects/cartilage/apps/CartilageSheetSimulation --output-dir exp-effect_repulsion_and_orientation/20200226-161335/ --S 3 --sbt --T 45.0 --sw 10 --sd 20 --sh 1 --mu 0.0 --A 0.5 --F pwq --mu_R 12.0 --rdd\n",
      "nice -n 19 /home/kubuntu1804/Documents/chaste_build/projects/cartilage/apps/CartilageSheetSimulation --output-dir exp-effect_repulsion_and_orientation/20200226-161335/ --S 4 --sbt --T 45.0 --sw 10 --sd 20 --sh 1 --mu 0.0 --A 0.5 --F pwq --mu_R 12.0 --rdd\n",
      "nice -n 19 /home/kubuntu1804/Documents/chaste_build/projects/cartilage/apps/CartilageSheetSimulation --output-dir exp-effect_repulsion_and_orientation/20200226-161335/ --S 5 --sbt --T 45.0 --sw 10 --sd 20 --sh 1 --mu 0.0 --A 0.5 --F pwq --mu_R 12.0 --rdd\n",
      "nice -n 19 /home/kubuntu1804/Documents/chaste_build/projects/cartilage/apps/CartilageSheetSimulation --output-dir exp-effect_repulsion_and_orientation/20200226-161335/ --S 6 --sbt --T 45.0 --sw 10 --sd 20 --sh 1 --mu 0.0 --A 0.5 --F pwq --mu_R 12.0 --rdd\n",
      "nice -n 19 /home/kubuntu1804/Documents/chaste_build/projects/cartilage/apps/CartilageSheetSimulation --output-dir exp-effect_repulsion_and_orientation/20200226-161335/ --S 7 --sbt --T 45.0 --sw 10 --sd 20 --sh 1 --mu 0.0 --A 0.5 --F pwq --mu_R 12.0 --rdd\n",
      "nice -n 19 /home/kubuntu1804/Documents/chaste_build/projects/cartilage/apps/CartilageSheetSimulation --output-dir exp-effect_repulsion_and_orientation/20200226-161335/ --S 8 --sbt --T 45.0 --sw 10 --sd 20 --sh 1 --mu 0.0 --A 0.5 --F pwq --mu_R 12.0 --rdd\n",
      "nice -n 19 /home/kubuntu1804/Documents/chaste_build/projects/cartilage/apps/CartilageSheetSimulation --output-dir exp-effect_repulsion_and_orientation/20200226-161335/ --S 9 --sbt --T 45.0 --sw 10 --sd 20 --sh 1 --mu 0.0 --A 0.5 --F pwq --mu_R 12.0 --rdd\n",
      "Starting simulations with 2 processes\n"
     ]
    }
   ],
   "source": [
    "de.run_simulations_multiple_random_seeds(output_directory, flags=flags, number_of_simulations=10)"
   ]
  },
  {
   "cell_type": "code",
   "execution_count": 12,
   "metadata": {
    "collapsed": true
   },
   "outputs": [
    {
     "name": "stdout",
     "output_type": "stream",
     "text": [
      "['/home/kubuntu1804/Documents/sf_simulation_results/exp-effect_repulsion_and_orientation/20200226-161335/0/results_from_time_0/', '/home/kubuntu1804/Documents/sf_simulation_results/exp-effect_repulsion_and_orientation/20200226-161335/1/results_from_time_0/', '/home/kubuntu1804/Documents/sf_simulation_results/exp-effect_repulsion_and_orientation/20200226-161335/2/results_from_time_0/', '/home/kubuntu1804/Documents/sf_simulation_results/exp-effect_repulsion_and_orientation/20200226-161335/3/results_from_time_0/', '/home/kubuntu1804/Documents/sf_simulation_results/exp-effect_repulsion_and_orientation/20200226-161335/4/results_from_time_0/', '/home/kubuntu1804/Documents/sf_simulation_results/exp-effect_repulsion_and_orientation/20200226-161335/5/results_from_time_0/', '/home/kubuntu1804/Documents/sf_simulation_results/exp-effect_repulsion_and_orientation/20200226-161335/6/results_from_time_0/', '/home/kubuntu1804/Documents/sf_simulation_results/exp-effect_repulsion_and_orientation/20200226-161335/7/results_from_time_0/', '/home/kubuntu1804/Documents/sf_simulation_results/exp-effect_repulsion_and_orientation/20200226-161335/8/results_from_time_0/', '/home/kubuntu1804/Documents/sf_simulation_results/exp-effect_repulsion_and_orientation/20200226-161335/9/results_from_time_0/']\n",
      "Starting postprocessing with 2 processes\n"
     ]
    },
    {
     "name": "stderr",
     "output_type": "stream",
     "text": [
      "analysis/sheet_metrics.py:92: RuntimeWarning: All-NaN slice encountered\n",
      "  width[:, 0] = abs(np.nanmax(coordinates[:,0::3], axis=1)- np.nanmin(coordinates[:,0::3], axis=1))\n",
      "analysis/sheet_metrics.py:92: RuntimeWarning: All-NaN axis encountered\n",
      "  width[:, 0] = abs(np.nanmax(coordinates[:,0::3], axis=1)- np.nanmin(coordinates[:,0::3], axis=1))\n",
      "analysis/sheet_metrics.py:93: RuntimeWarning: All-NaN slice encountered\n",
      "  width[:, 1] = abs(np.nanmax(coordinates[:,1::3], axis=1)- np.nanmin(coordinates[:,1::3], axis=1))\n",
      "analysis/sheet_metrics.py:92: RuntimeWarning: All-NaN slice encountered\n",
      "  width[:, 0] = abs(np.nanmax(coordinates[:,0::3], axis=1)- np.nanmin(coordinates[:,0::3], axis=1))\n",
      "analysis/sheet_metrics.py:93: RuntimeWarning: All-NaN axis encountered\n",
      "  width[:, 1] = abs(np.nanmax(coordinates[:,1::3], axis=1)- np.nanmin(coordinates[:,1::3], axis=1))\n",
      "analysis/sheet_metrics.py:94: RuntimeWarning: All-NaN slice encountered\n",
      "  width[:, 2] = abs(np.nanmax(coordinates[:,2::3], axis=1)- np.nanmin(coordinates[:,2::3], axis=1))\n",
      "analysis/sheet_metrics.py:92: RuntimeWarning: All-NaN axis encountered\n",
      "  width[:, 0] = abs(np.nanmax(coordinates[:,0::3], axis=1)- np.nanmin(coordinates[:,0::3], axis=1))\n",
      "analysis/sheet_metrics.py:94: RuntimeWarning: All-NaN axis encountered\n",
      "  width[:, 2] = abs(np.nanmax(coordinates[:,2::3], axis=1)- np.nanmin(coordinates[:,2::3], axis=1))\n",
      "analysis/sheet_metrics.py:93: RuntimeWarning: All-NaN slice encountered\n",
      "  width[:, 1] = abs(np.nanmax(coordinates[:,1::3], axis=1)- np.nanmin(coordinates[:,1::3], axis=1))\n",
      "analysis/sheet_metrics.py:93: RuntimeWarning: All-NaN axis encountered\n",
      "  width[:, 1] = abs(np.nanmax(coordinates[:,1::3], axis=1)- np.nanmin(coordinates[:,1::3], axis=1))\n",
      "analysis/sheet_metrics.py:94: RuntimeWarning: All-NaN slice encountered\n",
      "  width[:, 2] = abs(np.nanmax(coordinates[:,2::3], axis=1)- np.nanmin(coordinates[:,2::3], axis=1))\n",
      "analysis/sheet_metrics.py:94: RuntimeWarning: All-NaN axis encountered\n",
      "  width[:, 2] = abs(np.nanmax(coordinates[:,2::3], axis=1)- np.nanmin(coordinates[:,2::3], axis=1))\n",
      "/usr/lib/python3/dist-packages/numpy/core/_methods.py:135: RuntimeWarning: Degrees of freedom <= 0 for slice\n",
      "  keepdims=keepdims)\n",
      "/usr/lib/python3/dist-packages/numpy/core/_methods.py:105: RuntimeWarning: invalid value encountered in true_divide\n",
      "  arrmean, rcount, out=arrmean, casting='unsafe', subok=False)\n",
      "/usr/lib/python3/dist-packages/numpy/core/_methods.py:125: RuntimeWarning: invalid value encountered in true_divide\n",
      "  ret, rcount, out=ret, casting='unsafe', subok=False)\n",
      "/usr/lib/python3/dist-packages/numpy/core/_methods.py:135: RuntimeWarning: Degrees of freedom <= 0 for slice\n",
      "  keepdims=keepdims)\n",
      "/usr/lib/python3/dist-packages/numpy/core/_methods.py:105: RuntimeWarning: invalid value encountered in true_divide\n",
      "  arrmean, rcount, out=arrmean, casting='unsafe', subok=False)\n",
      "/usr/lib/python3/dist-packages/numpy/core/_methods.py:125: RuntimeWarning: invalid value encountered in true_divide\n",
      "  ret, rcount, out=ret, casting='unsafe', subok=False)\n",
      "/usr/lib/python3/dist-packages/numpy/core/fromnumeric.py:2909: RuntimeWarning: Mean of empty slice.\n",
      "  out=out, **kwargs)\n",
      "/usr/lib/python3/dist-packages/numpy/core/_methods.py:80: RuntimeWarning: invalid value encountered in double_scalars\n",
      "  ret = ret.dtype.type(ret / rcount)\n",
      "/usr/lib/python3/dist-packages/numpy/core/fromnumeric.py:2909: RuntimeWarning: Mean of empty slice.\n",
      "  out=out, **kwargs)\n",
      "/usr/lib/python3/dist-packages/numpy/core/_methods.py:80: RuntimeWarning: invalid value encountered in double_scalars\n",
      "  ret = ret.dtype.type(ret / rcount)\n"
     ]
    }
   ],
   "source": [
    "de.run_postprocessing_multiple_random_seeds(10, output_directory)"
   ]
  },
  {
   "cell_type": "code",
   "execution_count": 13,
   "metadata": {},
   "outputs": [
    {
     "data": {
      "text/plain": [
       "[<matplotlib.lines.Line2D at 0x7f5caf31b320>]"
      ]
     },
     "execution_count": 13,
     "metadata": {},
     "output_type": "execute_result"
    },
    {
     "data": {
      "image/png": "[encoded data removed]",
      "text/plain": [
       "<matplotlib.figure.Figure at 0x7f5caf25efd0>"
      ]
     },
     "metadata": {},
     "output_type": "display_data"
    }
   ],
   "source": [
    "# time steps are consistent across runs, so it's sufficient to load them from a single path\n",
    "times, coords = sm.read_in_data('/home/kubuntu1804/Documents/sf_simulation_results/'+output_directory + '0/results_from_time_0/') \n",
    "\n",
    "ppa_av = np.zeros(times.shape)\n",
    "for seed in range(10):\n",
    "    ppa_av = ppa_av + np.loadtxt('/home/kubuntu1804/Documents/sf_simulation_results/'+output_directory+str(seed)+'/results_from_time_0/metrics_results/data_patch_projection_area_av.txt', dtype=float)\n",
    "ppa_av = ppa_av /10\n",
    "plt.plot(times, ppa_av)"
   ]
  },
  {
   "cell_type": "code",
   "execution_count": null,
   "metadata": {},
   "outputs": [],
   "source": []
  },
  {
   "cell_type": "code",
   "execution_count": null,
   "metadata": {},
   "outputs": [],
   "source": []
  },
  {
   "cell_type": "code",
   "execution_count": null,
   "metadata": {},
   "outputs": [],
   "source": []
  },
  {
   "cell_type": "code",
   "execution_count": null,
   "metadata": {},
   "outputs": [],
   "source": []
  },
  {
   "cell_type": "code",
   "execution_count": null,
   "metadata": {},
   "outputs": [],
   "source": []
  },
  {
   "cell_type": "code",
   "execution_count": null,
   "metadata": {},
   "outputs": [],
   "source": []
  },
  {
   "cell_type": "code",
   "execution_count": null,
   "metadata": {},
   "outputs": [],
   "source": []
  },
  {
   "cell_type": "markdown",
   "metadata": {},
   "source": [
    "You can generate a png visualizing clonal patches using"
   ]
  },
  {
   "cell_type": "code",
   "execution_count": 7,
   "metadata": {},
   "outputs": [
    {
     "name": "stdout",
     "output_type": "stream",
     "text": [
      "Input file path is /home/kubuntu1804/Documents/sf_simulation_results/dev-setup_experiments/0/\n"
     ]
    },
    {
     "name": "stderr",
     "output_type": "stream",
     "text": [
      "Generic Warning: In /build/paraview-lH8wFv/paraview-5.4.1+dfsg3/VTK/Rendering/Volume/vtkVolumeTextureMapper3D.cxx, line 680\n",
      "vtkVolumeTextureMapper3D::vtkVolumeTextureMapper3D was deprecated for VTK 7.0 and will be removed in a future version.\n",
      "\n",
      "Generic Warning: In /build/paraview-lH8wFv/paraview-5.4.1+dfsg3/VTK/Rendering/VolumeOpenGL/vtkOpenGLVolumeTextureMapper3D.cxx, line 57\n",
      "vtkOpenGLVolumeTextureMapper3D::vtkOpenGLVolumeTextureMapper3D was deprecated for VTK 7.0 and will be removed in a future version.\n",
      "\n",
      "Generic Warning: In /build/paraview-lH8wFv/paraview-5.4.1+dfsg3/VTK/Rendering/Volume/vtkVolumeTextureMapper3D.cxx, line 680\n",
      "vtkVolumeTextureMapper3D::vtkVolumeTextureMapper3D was deprecated for VTK 7.0 and will be removed in a future version.\n",
      "\n",
      "Generic Warning: In /build/paraview-lH8wFv/paraview-5.4.1+dfsg3/VTK/Rendering/VolumeOpenGL/vtkOpenGLVolumeTextureMapper3D.cxx, line 57\n",
      "vtkOpenGLVolumeTextureMapper3D::vtkOpenGLVolumeTextureMapper3D was deprecated for VTK 7.0 and will be removed in a future version.\n",
      "\n"
     ]
    }
   ],
   "source": [
    "%%bash\n",
    "pvpython analysis/paraview_show_clonal_patches.py -i /home/kubuntu1804/Documents/sf_simulation_results/dev-setup_experiments/0/"
   ]
  },
  {
   "cell_type": "markdown",
   "metadata": {},
   "source": [
    "And render the png using"
   ]
  },
  {
   "cell_type": "code",
   "execution_count": 14,
   "metadata": {},
   "outputs": [],
   "source": [
    "import matplotlib.pyplot as plt\n",
    "import matplotlib.image as mpimg"
   ]
  },
  {
   "cell_type": "code",
   "execution_count": 15,
   "metadata": {},
   "outputs": [
    {
     "data": {
      "text/plain": [
       "<matplotlib.image.AxesImage at 0x7fbab5d44208>"
      ]
     },
     "execution_count": 15,
     "metadata": {},
     "output_type": "execute_result"
    },
    {
     "data": {
      "image/png": "[encoded data removed]",
      "text/plain": [
       "<matplotlib.figure.Figure at 0x7fbab5d89630>"
      ]
     },
     "metadata": {},
     "output_type": "display_data"
    }
   ],
   "source": [
    "image = mpimg.imread(\"/home/kubuntu1804/Documents/sf_simulation_results/dev-setup_experiments/0/patches_t40.png\")\n",
    "plt.imshow(image)"
   ]
  },
  {
   "cell_type": "code",
   "execution_count": null,
   "metadata": {},
   "outputs": [],
   "source": []
  }
 ],
 "metadata": {
  "kernelspec": {
   "display_name": "Python 3",
   "language": "python",
   "name": "python3"
  },
  "language_info": {
   "codemirror_mode": {
    "name": "ipython",
    "version": 3
   },
   "file_extension": ".py",
   "mimetype": "text/x-python",
   "name": "python",
   "nbconvert_exporter": "python",
   "pygments_lexer": "ipython3",
   "version": "3.6.7"
  }
 },
 "nbformat": 4,
 "nbformat_minor": 2
}
